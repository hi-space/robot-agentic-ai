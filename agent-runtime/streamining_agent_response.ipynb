{
 "cells": [
  {
   "cell_type": "markdown",
   "id": "3a676f58ecf52b42",
   "metadata": {},
   "source": [
    "## Prerequisites\n",
    "\n",
    "To execute this tutorial you will need:\n",
    "* Python 3.10+\n",
    "* AWS credentials\n",
    "* Amazon Bedrock AgentCore SDK\n",
    "* Strands Agents\n",
    "* Docker running"
   ]
  },
  {
   "cell_type": "code",
   "execution_count": 4,
   "id": "initial_id",
   "metadata": {
    "jupyter": {
     "is_executing": true
    }
   },
   "outputs": [
    {
     "name": "stdout",
     "output_type": "stream",
     "text": [
      "\u001b[33mWARNING: Error parsing dependencies of devscripts: Invalid version: '2.22.1ubuntu1'\u001b[0m\u001b[33m\n",
      "\u001b[0m\u001b[31mERROR: pip's dependency resolver does not currently take into account all the packages that are installed. This behaviour is the source of the following dependency conflicts.\n",
      "gtts 2.5.4 requires click<8.2,>=7.1, but you have click 8.2.1 which is incompatible.\u001b[0m\u001b[31m\n",
      "\u001b[0m"
     ]
    }
   ],
   "source": [
    "!pip install --force-reinstall -U -r requirements.txt --quiet"
   ]
  },
  {
   "cell_type": "markdown",
   "id": "932110e6-fca6-47b6-b7c5-c4714a866a80",
   "metadata": {},
   "source": [
    "## Preparing your streaming agent for deployment on AgentCore Runtime\n",
    "\n",
    "Let's now deploy our streaming agents to AgentCore Runtime. The streaming functionality is handled automatically by the AgentCore SDK when you use async generators or yield statements in your entrypoint function.\n",
    "\n",
    "Key points for streaming implementation:\n",
    "* Use `async def` for your entrypoint function\n",
    "* Use `yield` to stream chunks as they become available\n",
    "* The AgentCore SDK automatically handles the Server-Sent Events (SSE) format\n",
    "* Clients will receive Content-Type: text/event-stream responses\n",
    "\n",
    "### Strands Agents with Amazon Bedrock model and Streaming\n",
    "Let's look at our streaming implementation for the Strands Agent using Amazon Bedrock model."
   ]
  },
  {
   "cell_type": "markdown",
   "id": "6820ca8f-a8a8-4f34-b4ef-b6dad3776261",
   "metadata": {},
   "source": [
    "## Deploying the streaming agent to AgentCore Runtime\n",
    "\n",
    "The `CreateAgentRuntime` operation supports comprehensive configuration options, letting you specify container images, environment variables and encryption settings. You can also configure protocol settings (HTTP, MCP) and authorization mechanisms to control how your clients communicate with the agent. \n",
    "\n",
    "**Note:** Operations best practice is to package code as container and push to ECR using CI/CD pipelines and IaC\n",
    "\n",
    "In this tutorial we will use the Amazon Bedrock AgentCode Python SDK to easily package your artifacts and deploy them to AgentCore runtime."
   ]
  },
  {
   "cell_type": "markdown",
   "id": "8855aceb-b79f-4aaa-b16f-8577c059816a",
   "metadata": {},
   "source": [
    "### Configure AgentCore Runtime deployment\n",
    "\n",
    "Next we will use our starter toolkit to configure the AgentCore Runtime deployment with an entrypoint, the execution role we just created and a requirements file. We will also configure the starter kit to auto create the Amazon ECR repository on launch.\n",
    "\n",
    "During the configure step, your docker file will be generated based on your application code\n",
    "\n",
    "<div style=\"text-align:left\">\n",
    "    <img src=\"images/configure.png\" width=\"60%\"/>\n",
    "</div>"
   ]
  },
  {
   "cell_type": "code",
   "execution_count": 8,
   "id": "2e79eba2-ca59-463f-9ebf-56e362d7ae66",
   "metadata": {},
   "outputs": [
    {
     "name": "stderr",
     "output_type": "stream",
     "text": [
      "Entrypoint parsed: file=/home/ubuntu/workspace/robot-agentic-ai/be/strands_claude_streaming.py, bedrock_agentcore_name=strands_claude_streaming\n",
      "Configuring BedrockAgentCore agent: strands_claude_streaming\n"
     ]
    },
    {
     "data": {
      "text/html": [
       "<pre style=\"white-space:pre;overflow-x:auto;line-height:normal;font-family:Menlo,'DejaVu Sans Mono',consolas,'Courier New',monospace\">\n",
       "<span style=\"color: #808000; text-decoration-color: #808000; font-weight: bold; text-decoration: underline\">⚠️  [WARNING] Platform mismatch: Current system is </span><span style=\"color: #008000; text-decoration-color: #008000; text-decoration: underline\">'linux/amd64'</span><span style=\"color: #808000; text-decoration-color: #808000; font-weight: bold; text-decoration: underline\"> but Bedrock AgentCore requires </span><span style=\"color: #008000; text-decoration-color: #008000; text-decoration: underline\">'linux/arm64'</span><span style=\"color: #808000; text-decoration-color: #808000; font-weight: bold; text-decoration: underline\">.</span>\n",
       "<span style=\"color: #808000; text-decoration-color: #808000; font-weight: bold; text-decoration: underline\">For deployment options and workarounds, see: </span>\n",
       "<span style=\"color: #0000ff; text-decoration-color: #0000ff; text-decoration: underline\">https://docs.aws.amazon.com/bedrock-agentcore/latest/devguide/getting-started-custom.html</span>\n",
       "\n",
       "</pre>\n"
      ],
      "text/plain": [
       "\n",
       "\u001b[1;4;33m⚠️  \u001b[0m\u001b[1;4;33m[\u001b[0m\u001b[1;4;33mWARNING\u001b[0m\u001b[1;4;33m]\u001b[0m\u001b[1;4;33m Platform mismatch: Current system is \u001b[0m\u001b[4;32m'linux/amd64'\u001b[0m\u001b[1;4;33m but Bedrock AgentCore requires \u001b[0m\u001b[4;32m'linux/arm64'\u001b[0m\u001b[1;4;33m.\u001b[0m\n",
       "\u001b[1;4;33mFor deployment options and workarounds, see: \u001b[0m\n",
       "\u001b[4;94mhttps://docs.aws.amazon.com/bedrock-agentcore/latest/devguide/getting-started-custom.html\u001b[0m\n",
       "\n"
      ]
     },
     "metadata": {},
     "output_type": "display_data"
    },
    {
     "name": "stderr",
     "output_type": "stream",
     "text": [
      "Generated Dockerfile: /home/ubuntu/workspace/robot-agentic-ai/be/Dockerfile\n",
      "Generated .dockerignore: /home/ubuntu/workspace/robot-agentic-ai/be/.dockerignore\n",
      "Keeping 'strands_claude_streaming' as default agent\n",
      "Bedrock AgentCore configured: /home/ubuntu/workspace/robot-agentic-ai/be/.bedrock_agentcore.yaml\n"
     ]
    },
    {
     "data": {
      "text/plain": [
       "ConfigureResult(config_path=PosixPath('/home/ubuntu/workspace/robot-agentic-ai/be/.bedrock_agentcore.yaml'), dockerfile_path=PosixPath('/home/ubuntu/workspace/robot-agentic-ai/be/Dockerfile'), dockerignore_path=PosixPath('/home/ubuntu/workspace/robot-agentic-ai/be/.dockerignore'), runtime='Docker', region='us-west-2', account_id='533267442321', execution_role=None, ecr_repository=None, auto_create_ecr=True)"
      ]
     },
     "execution_count": 8,
     "metadata": {},
     "output_type": "execute_result"
    }
   ],
   "source": [
    "from bedrock_agentcore_starter_toolkit import Runtime\n",
    "from boto3.session import Session\n",
    "boto_session = Session()\n",
    "region = boto_session.region_name\n",
    "region\n",
    "\n",
    "agentcore_runtime = Runtime()\n",
    "\n",
    "response = agentcore_runtime.configure(\n",
    "    entrypoint=\"strands_claude_streaming.py\",\n",
    "    auto_create_execution_role=True,\n",
    "    auto_create_ecr=True,\n",
    "    requirements_file=\"requirements.txt\",\n",
    "    region=region,\n",
    "    agent_name=\"strands_claude_streaming\"\n",
    ")\n",
    "response"
   ]
  },
  {
   "cell_type": "markdown",
   "id": "9e1b84cc-798e-472c-ac0b-2c315f4b704d",
   "metadata": {},
   "source": [
    "### Launching streaming agent to AgentCore Runtime\n",
    "\n",
    "Now that we've got a docker file, let's launch the streaming agent to the AgentCore Runtime. This will create the Amazon ECR repository and the AgentCore Runtime\n",
    "\n",
    "<div style=\"text-align:left\">\n",
    "    <img src=\"images/launch.png\" width=\"85%\"/>\n",
    "</div>"
   ]
  },
  {
   "cell_type": "code",
   "execution_count": 9,
   "id": "17a32ab8-7701-4900-8055-e24364bdf35c",
   "metadata": {},
   "outputs": [
    {
     "name": "stderr",
     "output_type": "stream",
     "text": [
      "🚀 CodeBuild mode: building in cloud (RECOMMENDED - DEFAULT)\n",
      "   • Build ARM64 containers in the cloud with CodeBuild\n",
      "   • No local Docker required\n",
      "💡 Available deployment modes:\n",
      "   • runtime.launch()                           → CodeBuild (current)\n",
      "   • runtime.launch(local=True)                 → Local development\n",
      "   • runtime.launch(local_build=True)           → Local build + cloud deploy (NEW)\n",
      "Starting CodeBuild ARM64 deployment for agent 'strands_claude_streaming' to account 533267442321 (us-west-2)\n",
      "Setting up AWS resources (ECR repository, execution roles)...\n",
      "Getting or creating ECR repository for agent: strands_claude_streaming\n",
      "✅ ECR repository available: 533267442321.dkr.ecr.us-west-2.amazonaws.com/bedrock-agentcore-strands_claude_streaming\n",
      "Getting or creating execution role for agent: strands_claude_streaming\n",
      "Using AWS region: us-west-2, account ID: 533267442321\n",
      "Role name: AmazonBedrockAgentCoreSDKRuntime-us-west-2-2ce6205d24\n"
     ]
    },
    {
     "name": "stdout",
     "output_type": "stream",
     "text": [
      "✅ Reusing existing ECR repository: 533267442321.dkr.ecr.us-west-2.amazonaws.com/bedrock-agentcore-strands_claude_streaming\n"
     ]
    },
    {
     "name": "stderr",
     "output_type": "stream",
     "text": [
      "✅ Reusing existing execution role: arn:aws:iam::533267442321:role/AmazonBedrockAgentCoreSDKRuntime-us-west-2-2ce6205d24\n",
      "✅ Execution role available: arn:aws:iam::533267442321:role/AmazonBedrockAgentCoreSDKRuntime-us-west-2-2ce6205d24\n",
      "Preparing CodeBuild project and uploading source...\n",
      "Getting or creating CodeBuild execution role for agent: strands_claude_streaming\n",
      "Role name: AmazonBedrockAgentCoreSDKCodeBuild-us-west-2-2ce6205d24\n",
      "Reusing existing CodeBuild execution role: arn:aws:iam::533267442321:role/AmazonBedrockAgentCoreSDKCodeBuild-us-west-2-2ce6205d24\n",
      "Using .dockerignore with 44 patterns\n",
      "Uploaded source to S3: strands_claude_streaming/source.zip\n",
      "Updated CodeBuild project: bedrock-agentcore-strands_claude_streaming-builder\n",
      "Starting CodeBuild build (this may take several minutes)...\n",
      "Starting CodeBuild monitoring...\n",
      "🔄 QUEUED started (total: 0s)\n",
      "✅ QUEUED completed in 1.2s\n",
      "🔄 PROVISIONING started (total: 1s)\n",
      "✅ PROVISIONING completed in 8.0s\n",
      "🔄 DOWNLOAD_SOURCE started (total: 9s)\n",
      "✅ DOWNLOAD_SOURCE completed in 1.2s\n",
      "🔄 BUILD started (total: 10s)\n",
      "✅ BUILD completed in 14.9s\n",
      "🔄 POST_BUILD started (total: 25s)\n",
      "✅ POST_BUILD completed in 11.5s\n",
      "🔄 COMPLETED started (total: 37s)\n",
      "✅ COMPLETED completed in 1.1s\n",
      "🎉 CodeBuild completed successfully in 0m 38s\n",
      "CodeBuild completed successfully\n",
      "✅ CodeBuild project configuration saved\n",
      "Deploying to Bedrock AgentCore...\n",
      "⚠️ Session ID will be reset to connect to the updated agent. The previous agent remains accessible via the original session ID: 4b52d50a-9255-4205-a4c3-95efc7ba27c5\n",
      "✅ Agent created/updated: arn:aws:bedrock-agentcore:us-west-2:533267442321:runtime/strands_claude_streaming-VqDW8eF351\n",
      "Polling for endpoint to be ready...\n",
      "Agent endpoint: arn:aws:bedrock-agentcore:us-west-2:533267442321:runtime/strands_claude_streaming-VqDW8eF351/runtime-endpoint/DEFAULT\n",
      "Deployment completed successfully - Agent: arn:aws:bedrock-agentcore:us-west-2:533267442321:runtime/strands_claude_streaming-VqDW8eF351\n",
      "Built with CodeBuild: bedrock-agentcore-strands_claude_streaming-builder:19155ed3-d194-412e-9b13-d034617a855a\n",
      "Deployed to cloud: arn:aws:bedrock-agentcore:us-west-2:533267442321:runtime/strands_claude_streaming-VqDW8eF351\n",
      "ECR image: 533267442321.dkr.ecr.us-west-2.amazonaws.com/bedrock-agentcore-strands_claude_streaming\n",
      "🔍 Agent logs available at:\n",
      "   /aws/bedrock-agentcore/runtimes/strands_claude_streaming-VqDW8eF351-DEFAULT\n",
      "   /aws/bedrock-agentcore/runtimes/strands_claude_streaming-VqDW8eF351-DEFAULT --log-stream-names otel-rt-logs\n",
      "💡 Tail logs with: aws logs tail /aws/bedrock-agentcore/runtimes/strands_claude_streaming-VqDW8eF351-DEFAULT --follow\n",
      "💡 Or view recent logs: aws logs tail /aws/bedrock-agentcore/runtimes/strands_claude_streaming-VqDW8eF351-DEFAULT --since 1h\n"
     ]
    }
   ],
   "source": [
    "launch_result = agentcore_runtime.launch()"
   ]
  },
  {
   "cell_type": "markdown",
   "id": "a0ae9c09-09db-4a76-871a-92eacd96b9c3",
   "metadata": {},
   "source": [
    "### Checking for the AgentCore Runtime Status\n",
    "Now that we've deployed the AgentCore Runtime, let's check for it's deployment status"
   ]
  },
  {
   "cell_type": "code",
   "execution_count": 10,
   "id": "afa6ac09-9adb-4846-9fc1-4d12aeb74853",
   "metadata": {},
   "outputs": [
    {
     "name": "stderr",
     "output_type": "stream",
     "text": [
      "Retrieved Bedrock AgentCore status for: strands_claude_streaming\n"
     ]
    },
    {
     "data": {
      "text/plain": [
       "'READY'"
      ]
     },
     "execution_count": 10,
     "metadata": {},
     "output_type": "execute_result"
    }
   ],
   "source": [
    "import time\n",
    "\n",
    "status_response = agentcore_runtime.status()\n",
    "status = status_response.endpoint['status']\n",
    "end_status = ['READY', 'CREATE_FAILED', 'DELETE_FAILED', 'UPDATE_FAILED']\n",
    "while status not in end_status:\n",
    "    time.sleep(10)\n",
    "    status_response = agentcore_runtime.status()\n",
    "    status = status_response.endpoint['status']\n",
    "    print(status)\n",
    "status"
   ]
  },
  {
   "cell_type": "markdown",
   "id": "b7f89c56-918a-4cab-beaa-c7ac43a2ba29",
   "metadata": {},
   "source": [
    "### Invoking AgentCore Runtime with Streaming\n",
    "\n",
    "Finally, we can invoke our AgentCore Runtime with a payload and receive streaming responses\n",
    "\n",
    "<div style=\"text-align:left\">\n",
    "    <img src=\"images/invoke.png\" width=\"85%\"/>\n",
    "</div>"
   ]
  },
  {
   "cell_type": "code",
   "execution_count": 12,
   "id": "3d909e42-e1a0-407f-84c2-3d16cc889cd3",
   "metadata": {
    "scrolled": true
   },
   "outputs": [
    {
     "name": "stderr",
     "output_type": "stream",
     "text": [
      "Invoking BedrockAgentCore agent 'strands_claude_streaming' via cloud endpoint\n"
     ]
    },
    {
     "data": {
      "text/html": [
       "<pre style=\"white-space:pre;overflow-x:auto;line-height:normal;font-family:Menlo,'DejaVu Sans Mono',consolas,'Courier New',monospace\"><span style=\"color: #008080; text-decoration-color: #008080; font-weight: bold\">현</span></pre>\n"
      ],
      "text/plain": [
       "\u001b[1;36m현\u001b[0m"
      ]
     },
     "metadata": {},
     "output_type": "display_data"
    },
    {
     "data": {
      "text/html": [
       "<pre style=\"white-space:pre;overflow-x:auto;line-height:normal;font-family:Menlo,'DejaVu Sans Mono',consolas,'Courier New',monospace\"><span style=\"color: #008080; text-decoration-color: #008080; font-weight: bold\">재 날</span></pre>\n"
      ],
      "text/plain": [
       "\u001b[1;36m재 날\u001b[0m"
      ]
     },
     "metadata": {},
     "output_type": "display_data"
    },
    {
     "data": {
      "text/html": [
       "<pre style=\"white-space:pre;overflow-x:auto;line-height:normal;font-family:Menlo,'DejaVu Sans Mono',consolas,'Courier New',monospace\"><span style=\"color: #008080; text-decoration-color: #008080; font-weight: bold\">씨 </span></pre>\n"
      ],
      "text/plain": [
       "\u001b[1;36m씨 \u001b[0m"
      ]
     },
     "metadata": {},
     "output_type": "display_data"
    },
    {
     "data": {
      "text/html": [
       "<pre style=\"white-space:pre;overflow-x:auto;line-height:normal;font-family:Menlo,'DejaVu Sans Mono',consolas,'Courier New',monospace\"><span style=\"color: #008080; text-decoration-color: #008080; font-weight: bold\">정보를 </span></pre>\n"
      ],
      "text/plain": [
       "\u001b[1;36m정보를 \u001b[0m"
      ]
     },
     "metadata": {},
     "output_type": "display_data"
    },
    {
     "data": {
      "text/html": [
       "<pre style=\"white-space:pre;overflow-x:auto;line-height:normal;font-family:Menlo,'DejaVu Sans Mono',consolas,'Courier New',monospace\"><span style=\"color: #008080; text-decoration-color: #008080; font-weight: bold\">확</span></pre>\n"
      ],
      "text/plain": [
       "\u001b[1;36m확\u001b[0m"
      ]
     },
     "metadata": {},
     "output_type": "display_data"
    },
    {
     "data": {
      "text/html": [
       "<pre style=\"white-space:pre;overflow-x:auto;line-height:normal;font-family:Menlo,'DejaVu Sans Mono',consolas,'Courier New',monospace\"><span style=\"color: #008080; text-decoration-color: #008080; font-weight: bold\">인해 </span></pre>\n"
      ],
      "text/plain": [
       "\u001b[1;36m인해 \u001b[0m"
      ]
     },
     "metadata": {},
     "output_type": "display_data"
    },
    {
     "data": {
      "text/html": [
       "<pre style=\"white-space:pre;overflow-x:auto;line-height:normal;font-family:Menlo,'DejaVu Sans Mono',consolas,'Courier New',monospace\"><span style=\"color: #008080; text-decoration-color: #008080; font-weight: bold\">드리겠</span></pre>\n"
      ],
      "text/plain": [
       "\u001b[1;36m드리겠\u001b[0m"
      ]
     },
     "metadata": {},
     "output_type": "display_data"
    },
    {
     "data": {
      "text/html": [
       "<pre style=\"white-space:pre;overflow-x:auto;line-height:normal;font-family:Menlo,'DejaVu Sans Mono',consolas,'Courier New',monospace\"><span style=\"color: #008080; text-decoration-color: #008080; font-weight: bold\">습니다.</span></pre>\n"
      ],
      "text/plain": [
       "\u001b[1;36m습니다.\u001b[0m"
      ]
     },
     "metadata": {},
     "output_type": "display_data"
    },
    {
     "data": {
      "text/html": [
       "<pre style=\"white-space:pre;overflow-x:auto;line-height:normal;font-family:Menlo,'DejaVu Sans Mono',consolas,'Courier New',monospace\"><span style=\"color: #008080; text-decoration-color: #008080; font-weight: bold\">현</span></pre>\n"
      ],
      "text/plain": [
       "\u001b[1;36m현\u001b[0m"
      ]
     },
     "metadata": {},
     "output_type": "display_data"
    },
    {
     "data": {
      "text/html": [
       "<pre style=\"white-space:pre;overflow-x:auto;line-height:normal;font-family:Menlo,'DejaVu Sans Mono',consolas,'Courier New',monospace\"><span style=\"color: #008080; text-decoration-color: #008080; font-weight: bold\">재 날</span></pre>\n"
      ],
      "text/plain": [
       "\u001b[1;36m재 날\u001b[0m"
      ]
     },
     "metadata": {},
     "output_type": "display_data"
    },
    {
     "data": {
      "text/html": [
       "<pre style=\"white-space:pre;overflow-x:auto;line-height:normal;font-family:Menlo,'DejaVu Sans Mono',consolas,'Courier New',monospace\"><span style=\"color: #008080; text-decoration-color: #008080; font-weight: bold\">씨는 </span></pre>\n"
      ],
      "text/plain": [
       "\u001b[1;36m씨는 \u001b[0m"
      ]
     },
     "metadata": {},
     "output_type": "display_data"
    },
    {
     "data": {
      "text/html": [
       "<pre style=\"white-space:pre;overflow-x:auto;line-height:normal;font-family:Menlo,'DejaVu Sans Mono',consolas,'Courier New',monospace\"><span style=\"color: #008080; text-decoration-color: #008080; font-weight: bold\">맑음</span></pre>\n"
      ],
      "text/plain": [
       "\u001b[1;36m맑음\u001b[0m"
      ]
     },
     "metadata": {},
     "output_type": "display_data"
    },
    {
     "data": {
      "text/html": [
       "<pre style=\"white-space:pre;overflow-x:auto;line-height:normal;font-family:Menlo,'DejaVu Sans Mono',consolas,'Courier New',monospace\"><span style=\"color: #008080; text-decoration-color: #008080; font-weight: bold\">(</span></pre>\n"
      ],
      "text/plain": [
       "\u001b[1;36m(\u001b[0m"
      ]
     },
     "metadata": {},
     "output_type": "display_data"
    },
    {
     "data": {
      "text/html": [
       "<pre style=\"white-space:pre;overflow-x:auto;line-height:normal;font-family:Menlo,'DejaVu Sans Mono',consolas,'Courier New',monospace\"><span style=\"color: #008080; text-decoration-color: #008080; font-weight: bold\">sunny)입니</span></pre>\n"
      ],
      "text/plain": [
       "\u001b[1;36msunny\u001b[0m\u001b[1;36m)\u001b[0m\u001b[1;36m입니\u001b[0m"
      ]
     },
     "metadata": {},
     "output_type": "display_data"
    },
    {
     "data": {
      "text/html": [
       "<pre style=\"white-space:pre;overflow-x:auto;line-height:normal;font-family:Menlo,'DejaVu Sans Mono',consolas,'Courier New',monospace\"><span style=\"color: #008080; text-decoration-color: #008080; font-weight: bold\">다. 오</span></pre>\n"
      ],
      "text/plain": [
       "\u001b[1;36m다. 오\u001b[0m"
      ]
     },
     "metadata": {},
     "output_type": "display_data"
    },
    {
     "data": {
      "text/html": [
       "<pre style=\"white-space:pre;overflow-x:auto;line-height:normal;font-family:Menlo,'DejaVu Sans Mono',consolas,'Courier New',monospace\"><span style=\"color: #008080; text-decoration-color: #008080; font-weight: bold\">늘은</span></pre>\n"
      ],
      "text/plain": [
       "\u001b[1;36m늘은\u001b[0m"
      ]
     },
     "metadata": {},
     "output_type": "display_data"
    },
    {
     "data": {
      "text/html": [
       "<pre style=\"white-space:pre;overflow-x:auto;line-height:normal;font-family:Menlo,'DejaVu Sans Mono',consolas,'Courier New',monospace\"><span style=\"color: #008080; text-decoration-color: #008080; font-weight: bold\"> 화</span></pre>\n"
      ],
      "text/plain": [
       "\u001b[1;36m 화\u001b[0m"
      ]
     },
     "metadata": {},
     "output_type": "display_data"
    },
    {
     "data": {
      "text/html": [
       "<pre style=\"white-space:pre;overflow-x:auto;line-height:normal;font-family:Menlo,'DejaVu Sans Mono',consolas,'Courier New',monospace\"><span style=\"color: #008080; text-decoration-color: #008080; font-weight: bold\">창</span></pre>\n"
      ],
      "text/plain": [
       "\u001b[1;36m창\u001b[0m"
      ]
     },
     "metadata": {},
     "output_type": "display_data"
    },
    {
     "data": {
      "text/html": [
       "<pre style=\"white-space:pre;overflow-x:auto;line-height:normal;font-family:Menlo,'DejaVu Sans Mono',consolas,'Courier New',monospace\"><span style=\"color: #008080; text-decoration-color: #008080; font-weight: bold\">한</span></pre>\n"
      ],
      "text/plain": [
       "\u001b[1;36m한\u001b[0m"
      ]
     },
     "metadata": {},
     "output_type": "display_data"
    },
    {
     "data": {
      "text/html": [
       "<pre style=\"white-space:pre;overflow-x:auto;line-height:normal;font-family:Menlo,'DejaVu Sans Mono',consolas,'Courier New',monospace\"><span style=\"color: #008080; text-decoration-color: #008080; font-weight: bold\"> 날씨</span></pre>\n"
      ],
      "text/plain": [
       "\u001b[1;36m 날씨\u001b[0m"
      ]
     },
     "metadata": {},
     "output_type": "display_data"
    },
    {
     "data": {
      "text/html": [
       "<pre style=\"white-space:pre;overflow-x:auto;line-height:normal;font-family:Menlo,'DejaVu Sans Mono',consolas,'Courier New',monospace\"><span style=\"color: #008080; text-decoration-color: #008080; font-weight: bold\">를</span></pre>\n"
      ],
      "text/plain": [
       "\u001b[1;36m를\u001b[0m"
      ]
     },
     "metadata": {},
     "output_type": "display_data"
    },
    {
     "data": {
      "text/html": [
       "<pre style=\"white-space:pre;overflow-x:auto;line-height:normal;font-family:Menlo,'DejaVu Sans Mono',consolas,'Courier New',monospace\"><span style=\"color: #008080; text-decoration-color: #008080; font-weight: bold\"> </span></pre>\n"
      ],
      "text/plain": [
       "\u001b[1;36m \u001b[0m"
      ]
     },
     "metadata": {},
     "output_type": "display_data"
    },
    {
     "data": {
      "text/html": [
       "<pre style=\"white-space:pre;overflow-x:auto;line-height:normal;font-family:Menlo,'DejaVu Sans Mono',consolas,'Courier New',monospace\"><span style=\"color: #008080; text-decoration-color: #008080; font-weight: bold\">즐기</span></pre>\n"
      ],
      "text/plain": [
       "\u001b[1;36m즐기\u001b[0m"
      ]
     },
     "metadata": {},
     "output_type": "display_data"
    },
    {
     "data": {
      "text/html": [
       "<pre style=\"white-space:pre;overflow-x:auto;line-height:normal;font-family:Menlo,'DejaVu Sans Mono',consolas,'Courier New',monospace\"><span style=\"color: #008080; text-decoration-color: #008080; font-weight: bold\">기</span></pre>\n"
      ],
      "text/plain": [
       "\u001b[1;36m기\u001b[0m"
      ]
     },
     "metadata": {},
     "output_type": "display_data"
    },
    {
     "data": {
      "text/html": [
       "<pre style=\"white-space:pre;overflow-x:auto;line-height:normal;font-family:Menlo,'DejaVu Sans Mono',consolas,'Courier New',monospace\"><span style=\"color: #008080; text-decoration-color: #008080; font-weight: bold\"> 좋은</span></pre>\n"
      ],
      "text/plain": [
       "\u001b[1;36m 좋은\u001b[0m"
      ]
     },
     "metadata": {},
     "output_type": "display_data"
    },
    {
     "data": {
      "text/html": [
       "<pre style=\"white-space:pre;overflow-x:auto;line-height:normal;font-family:Menlo,'DejaVu Sans Mono',consolas,'Courier New',monospace\"><span style=\"color: #008080; text-decoration-color: #008080; font-weight: bold\"> 날이</span></pre>\n"
      ],
      "text/plain": [
       "\u001b[1;36m 날이\u001b[0m"
      ]
     },
     "metadata": {},
     "output_type": "display_data"
    },
    {
     "data": {
      "text/html": [
       "<pre style=\"white-space:pre;overflow-x:auto;line-height:normal;font-family:Menlo,'DejaVu Sans Mono',consolas,'Courier New',monospace\"><span style=\"color: #008080; text-decoration-color: #008080; font-weight: bold\">네요!</span></pre>\n"
      ],
      "text/plain": [
       "\u001b[1;36m네요!\u001b[0m"
      ]
     },
     "metadata": {},
     "output_type": "display_data"
    },
    {
     "data": {
      "text/html": [
       "<pre style=\"white-space:pre;overflow-x:auto;line-height:normal;font-family:Menlo,'DejaVu Sans Mono',consolas,'Courier New',monospace\">\n",
       "</pre>\n"
      ],
      "text/plain": [
       "\n"
      ]
     },
     "metadata": {},
     "output_type": "display_data"
    },
    {
     "data": {
      "text/plain": [
       "{}"
      ]
     },
     "execution_count": 12,
     "metadata": {},
     "output_type": "execute_result"
    }
   ],
   "source": [
    "import uuid\n",
    "\n",
    "session_id = uuid.uuid4()\n",
    "invoke_response = agentcore_runtime.invoke({\n",
    "    \"prompt\": \n",
    "    \"지금 날씨 어때?\"\n",
    "}, session_id=str(session_id))\n",
    "invoke_response"
   ]
  },
  {
   "cell_type": "markdown",
   "id": "2c1d2bce-be41-478c-8bed-b4037c385795",
   "metadata": {},
   "source": [
    "### Invoking AgentCore Runtime with boto3 for Streaming\n",
    "\n",
    "Now that your AgentCore Runtime was created you can invoke it with any AWS SDK. For streaming responses, you'll need to handle the Server-Sent Events format."
   ]
  },
  {
   "cell_type": "code",
   "execution_count": 6,
   "id": "7f84e68d-6c04-41b9-bf5b-60edc3fa0985",
   "metadata": {
    "scrolled": true
   },
   "outputs": [
    {
     "name": "stdout",
     "output_type": "stream",
     "text": [
      "Processing streaming response with boto3:\n",
      "data: \"I\"\n",
      "Received streaming chunk: I\n",
      "data: \"'ll\"\n",
      "Received streaming chunk: 'll\n",
      "data: \" calculate that\"\n",
      "Received streaming chunk:  calculate that\n",
      "data: \" for you using\"\n",
      "Received streaming chunk:  for you using\n",
      "data: \" the calculator\"\n",
      "Received streaming chunk:  the calculator\n",
      "data: \" function\"\n",
      "Received streaming chunk:  function\n",
      "data: \".\"\n",
      "Received streaming chunk: .\n",
      "data: \"The\"\n",
      "Received streaming chunk: The\n",
      "data: \" result of\"\n",
      "Received streaming chunk:  result of\n",
      "data: \" 2 +\"\n",
      "Received streaming chunk:  2 +\n",
      "data: \" 1 =\"\n",
      "Received streaming chunk:  1 =\n",
      "data: \" 3.\"\n",
      "Received streaming chunk:  3.\n"
     ]
    },
    {
     "data": {
      "text/markdown": [
       "I 'll  calculate that  for you using  the calculator  function . The  result of  2 +  1 =  3."
      ],
      "text/plain": [
       "<IPython.core.display.Markdown object>"
      ]
     },
     "metadata": {},
     "output_type": "display_data"
    }
   ],
   "source": [
    "import boto3\n",
    "import json\n",
    "from IPython.display import Markdown, display\n",
    "\n",
    "agent_arn = launch_result.agent_arn\n",
    "agentcore_client = boto3.client(\n",
    "    'bedrock-agentcore',\n",
    "    region_name=region\n",
    ")\n",
    "\n",
    "# For streaming responses, we need to handle the EventStream\n",
    "boto3_response = agentcore_client.invoke_agent_runtime(\n",
    "    agentRuntimeArn=agent_arn,\n",
    "    qualifier=\"DEFAULT\",\n",
    "    payload=json.dumps({\"prompt\": \"How much is 2+1\"})\n",
    ")\n",
    "\n",
    "# Check if the response is streaming\n",
    "if \"text/event-stream\" in boto3_response.get(\"contentType\", \"\"):\n",
    "    print(\"Processing streaming response with boto3:\")\n",
    "    content = []\n",
    "    for line in boto3_response[\"response\"].iter_lines(chunk_size=1):\n",
    "        if line:\n",
    "            line = line.decode(\"utf-8\")\n",
    "            print(line)\n",
    "            if line.startswith(\"data: \"):\n",
    "                data = line[6:].replace('\"', '')  # Remove \"data: \" prefix\n",
    "                print(f\"Received streaming chunk: {data}\")\n",
    "                content.append(data.replace('\"', ''))\n",
    "    \n",
    "    # Display the complete streamed response\n",
    "    full_response = \" \".join(content)\n",
    "    display(Markdown(full_response))\n",
    "else:\n",
    "    # Handle non-streaming response\n",
    "    try:\n",
    "        events = []\n",
    "        for event in boto3_response.get(\"response\", []):\n",
    "            events.append(event)\n",
    "    except Exception as e:\n",
    "        events = [f\"Error reading EventStream: {e}\"]\n",
    "    \n",
    "    if events:\n",
    "        try:\n",
    "            response_data = json.loads(events[0].decode(\"utf-8\"))\n",
    "            display(Markdown(response_data))\n",
    "        except:\n",
    "            print(f\"Raw response: {events[0]}\")"
   ]
  },
  {
   "cell_type": "markdown",
   "id": "streaming_benefits",
   "metadata": {},
   "source": [
    "## Benefits of Streaming Responses\n",
    "\n",
    "Streaming responses provide several key advantages:\n",
    "\n",
    "### User Experience\n",
    "* **Immediate Feedback**: Users see partial results as they become available\n",
    "* **Perceived Performance**: Responses feel faster even if total time is the same\n",
    "* **Progressive Display**: Long responses can be displayed incrementally\n",
    "\n",
    "### Technical Benefits\n",
    "* **Memory Efficient**: Process large responses without loading everything into memory\n",
    "* **Timeout Prevention**: Avoid timeouts on long-running operations\n",
    "* **Real-time Processing**: Handle real-time data as it becomes available\n",
    "\n",
    "### Use Cases\n",
    "* **Content Generation**: Long-form writing, reports, documentation\n",
    "* **Data Analysis**: Progressive results from complex calculations\n",
    "* **Multi-step Workflows**: Show progress through complex agent reasoning\n",
    "* **Real-time Monitoring**: Live updates from monitoring agents"
   ]
  },
  {
   "cell_type": "markdown",
   "id": "7d3fdfe404469632",
   "metadata": {},
   "source": [
    "## Cleanup (Optional)\n",
    "\n",
    "Let's now clean up the AgentCore Runtime created"
   ]
  },
  {
   "cell_type": "code",
   "execution_count": 18,
   "id": "7c243e86-a214-483c-aef1-d5243f28ca9e",
   "metadata": {},
   "outputs": [
    {
     "data": {
      "text/plain": [
       "('533267442321.dkr.ecr.us-west-2.amazonaws.com/bedrock-agentcore-strands_claude_streaming',\n",
       " 'strands_claude_streaming-VqDW8eF351',\n",
       " 'bedrock-agentcore-strands_claude_streaming')"
      ]
     },
     "execution_count": 18,
     "metadata": {},
     "output_type": "execute_result"
    }
   ],
   "source": [
    "launch_result.ecr_uri, launch_result.agent_id, launch_result.ecr_uri.split('/')[1]"
   ]
  },
  {
   "cell_type": "code",
   "execution_count": null,
   "id": "76a6cf1416830a54",
   "metadata": {},
   "outputs": [],
   "source": [
    "agentcore_control_client = boto3.client(\n",
    "    'bedrock-agentcore-control',\n",
    "    region_name=region\n",
    ")\n",
    "ecr_client = boto3.client(\n",
    "    'ecr',\n",
    "    region_name=region\n",
    ")\n",
    "\n",
    "runtime_delete_response = agentcore_control_client.delete_agent_runtime(\n",
    "    agentRuntimeId=launch_result.agent_id,\n",
    ")\n",
    "\n",
    "response = ecr_client.delete_repository(\n",
    "    repositoryName=launch_result.ecr_uri.split('/')[1],\n",
    "    force=True\n",
    ")"
   ]
  },
  {
   "cell_type": "markdown",
   "id": "b118ad38-feeb-4d1d-9d57-e5c845becc56",
   "metadata": {},
   "source": [
    "# Congratulations!\n",
    "\n",
    "You have successfully implemented and deployed a streaming agent using Amazon Bedrock AgentCore Runtime! \n",
    "\n",
    "## What you've learned:\n",
    "* How to implement streaming responses using async generators\n",
    "* How AgentCore Runtime automatically handles SSE format\n",
    "* How to process streaming responses on the client side\n",
    "* The benefits of streaming for user experience and performance\n",
    "\n",
    "## Next steps:\n",
    "* Experiment with different streaming patterns for your use cases\n",
    "* Implement custom streaming logic for complex multi-step workflows\n",
    "* Explore combining streaming with other AgentCore features like Memory and Gateway\n",
    "* Consider implementing client-side streaming visualization for better UX"
   ]
  },
  {
   "cell_type": "code",
   "execution_count": null,
   "id": "965e282b",
   "metadata": {},
   "outputs": [],
   "source": []
  },
  {
   "cell_type": "code",
   "execution_count": 1,
   "id": "fe1e9c31",
   "metadata": {},
   "outputs": [
    {
     "ename": "NameError",
     "evalue": "name 'launch_result' is not defined",
     "output_type": "error",
     "traceback": [
      "\u001b[31m---------------------------------------------------------------------------\u001b[39m",
      "\u001b[31mNameError\u001b[39m                                 Traceback (most recent call last)",
      "\u001b[36mCell\u001b[39m\u001b[36m \u001b[39m\u001b[32mIn[1]\u001b[39m\u001b[32m, line 1\u001b[39m\n\u001b[32m----> \u001b[39m\u001b[32m1\u001b[39m \u001b[43mlaunch_result\u001b[49m\n",
      "\u001b[31mNameError\u001b[39m: name 'launch_result' is not defined"
     ]
    }
   ],
   "source": [
    "launch_result"
   ]
  },
  {
   "cell_type": "code",
   "execution_count": null,
   "id": "1dd11954",
   "metadata": {},
   "outputs": [],
   "source": []
  },
  {
   "cell_type": "code",
   "execution_count": null,
   "id": "6d2867c8",
   "metadata": {},
   "outputs": [],
   "source": []
  },
  {
   "cell_type": "code",
   "execution_count": 13,
   "id": "c3a3c15f",
   "metadata": {},
   "outputs": [],
   "source": [
    "from strands import Agent, tool\n",
    "from strands_tools import calculator # Import the calculator tool\n",
    "import argparse\n",
    "import json\n",
    "import base64\n",
    "from bedrock_agentcore.runtime import BedrockAgentCoreApp\n",
    "from strands.models import BedrockModel\n",
    "import asyncio\n",
    "from datetime import datetime\n",
    "\n",
    "\n",
    "# Create a custom tool \n",
    "@tool\n",
    "def weather():\n",
    "    \"\"\" Get weather \"\"\" # Dummy implementation\n",
    "    return \"sunny\"\n",
    "\n",
    "@tool\n",
    "def get_time():\n",
    "    \"\"\" Get current time \"\"\"\n",
    "    return datetime.now().strftime(\"%Y-%m-%d %H:%M:%S\")\n",
    "\n",
    "model_id = \"us.anthropic.claude-3-7-sonnet-20250219-v1:0\"\n",
    "model = BedrockModel(\n",
    "    model_id=model_id,\n",
    ")\n",
    "agent = Agent(\n",
    "    model=model,\n",
    "    tools=[\n",
    "        calculator, weather, get_time\n",
    "    ],\n",
    "    system_prompt=\"\"\"You're a helpful assistant. You can do simple math calculations, \n",
    "    tell the weather, and provide the current time.\"\"\"\n",
    ")"
   ]
  },
  {
   "cell_type": "code",
   "execution_count": 17,
   "id": "38d4a63a",
   "metadata": {},
   "outputs": [
    {
     "name": "stdout",
     "output_type": "stream",
     "text": [
      "{'init_event_loop': True}\n",
      "{'start': True}\n",
      "{'start_event_loop': True}\n",
      "{'event': {'messageStart': {'role': 'assistant'}}}\n",
      "{'event': {'contentBlockDelta': {'delta': {'text': '현'}, 'contentBlockIndex': 0}}}\n",
      "현{'data': '현', 'delta': {'text': '현'}, 'agent': <strands.agent.agent.Agent object at 0x7dbc1fb80440>, 'event_loop_cycle_id': UUID('a69b0c68-2a06-4bc2-878a-acf340d45236'), 'request_state': {}, 'event_loop_cycle_trace': <strands.telemetry.metrics.Trace object at 0x7dbc1faa4ef0>, 'event_loop_cycle_span': NonRecordingSpan(SpanContext(trace_id=0x00000000000000000000000000000000, span_id=0x0000000000000000, trace_flags=0x00, trace_state=[], is_remote=False))}\n",
      "data: {\"type\": \"content\", \"content\": \"\\ud604\"}\n",
      "\n",
      "\n",
      "{'event': {'contentBlockDelta': {'delta': {'text': '재 날'}, 'contentBlockIndex': 0}}}\n",
      "재 날{'data': '재 날', 'delta': {'text': '재 날'}, 'agent': <strands.agent.agent.Agent object at 0x7dbc1fb80440>, 'event_loop_cycle_id': UUID('a69b0c68-2a06-4bc2-878a-acf340d45236'), 'request_state': {}, 'event_loop_cycle_trace': <strands.telemetry.metrics.Trace object at 0x7dbc1faa4ef0>, 'event_loop_cycle_span': NonRecordingSpan(SpanContext(trace_id=0x00000000000000000000000000000000, span_id=0x0000000000000000, trace_flags=0x00, trace_state=[], is_remote=False))}\n",
      "data: {\"type\": \"content\", \"content\": \"\\uc7ac \\ub0a0\"}\n",
      "\n",
      "\n",
      "{'event': {'contentBlockDelta': {'delta': {'text': '씨 '}, 'contentBlockIndex': 0}}}\n",
      "씨 {'data': '씨 ', 'delta': {'text': '씨 '}, 'agent': <strands.agent.agent.Agent object at 0x7dbc1fb80440>, 'event_loop_cycle_id': UUID('a69b0c68-2a06-4bc2-878a-acf340d45236'), 'request_state': {}, 'event_loop_cycle_trace': <strands.telemetry.metrics.Trace object at 0x7dbc1faa4ef0>, 'event_loop_cycle_span': NonRecordingSpan(SpanContext(trace_id=0x00000000000000000000000000000000, span_id=0x0000000000000000, trace_flags=0x00, trace_state=[], is_remote=False))}\n",
      "data: {\"type\": \"content\", \"content\": \"\\uc528 \"}\n",
      "\n",
      "\n",
      "{'event': {'contentBlockDelta': {'delta': {'text': '정보를 '}, 'contentBlockIndex': 0}}}\n",
      "정보를 {'data': '정보를 ', 'delta': {'text': '정보를 '}, 'agent': <strands.agent.agent.Agent object at 0x7dbc1fb80440>, 'event_loop_cycle_id': UUID('a69b0c68-2a06-4bc2-878a-acf340d45236'), 'request_state': {}, 'event_loop_cycle_trace': <strands.telemetry.metrics.Trace object at 0x7dbc1faa4ef0>, 'event_loop_cycle_span': NonRecordingSpan(SpanContext(trace_id=0x00000000000000000000000000000000, span_id=0x0000000000000000, trace_flags=0x00, trace_state=[], is_remote=False))}\n",
      "data: {\"type\": \"content\", \"content\": \"\\uc815\\ubcf4\\ub97c \"}\n",
      "\n",
      "\n",
      "{'event': {'contentBlockDelta': {'delta': {'text': '확인해 '}, 'contentBlockIndex': 0}}}\n",
      "확인해 {'data': '확인해 ', 'delta': {'text': '확인해 '}, 'agent': <strands.agent.agent.Agent object at 0x7dbc1fb80440>, 'event_loop_cycle_id': UUID('a69b0c68-2a06-4bc2-878a-acf340d45236'), 'request_state': {}, 'event_loop_cycle_trace': <strands.telemetry.metrics.Trace object at 0x7dbc1faa4ef0>, 'event_loop_cycle_span': NonRecordingSpan(SpanContext(trace_id=0x00000000000000000000000000000000, span_id=0x0000000000000000, trace_flags=0x00, trace_state=[], is_remote=False))}\n",
      "data: {\"type\": \"content\", \"content\": \"\\ud655\\uc778\\ud574 \"}\n",
      "\n",
      "\n",
      "{'event': {'contentBlockDelta': {'delta': {'text': '드리겠'}, 'contentBlockIndex': 0}}}\n",
      "드리겠{'data': '드리겠', 'delta': {'text': '드리겠'}, 'agent': <strands.agent.agent.Agent object at 0x7dbc1fb80440>, 'event_loop_cycle_id': UUID('a69b0c68-2a06-4bc2-878a-acf340d45236'), 'request_state': {}, 'event_loop_cycle_trace': <strands.telemetry.metrics.Trace object at 0x7dbc1faa4ef0>, 'event_loop_cycle_span': NonRecordingSpan(SpanContext(trace_id=0x00000000000000000000000000000000, span_id=0x0000000000000000, trace_flags=0x00, trace_state=[], is_remote=False))}\n",
      "data: {\"type\": \"content\", \"content\": \"\\ub4dc\\ub9ac\\uaca0\"}\n",
      "\n",
      "\n",
      "{'event': {'contentBlockDelta': {'delta': {'text': '습니다.'}, 'contentBlockIndex': 0}}}\n",
      "습니다.{'data': '습니다.', 'delta': {'text': '습니다.'}, 'agent': <strands.agent.agent.Agent object at 0x7dbc1fb80440>, 'event_loop_cycle_id': UUID('a69b0c68-2a06-4bc2-878a-acf340d45236'), 'request_state': {}, 'event_loop_cycle_trace': <strands.telemetry.metrics.Trace object at 0x7dbc1faa4ef0>, 'event_loop_cycle_span': NonRecordingSpan(SpanContext(trace_id=0x00000000000000000000000000000000, span_id=0x0000000000000000, trace_flags=0x00, trace_state=[], is_remote=False))}\n",
      "data: {\"type\": \"content\", \"content\": \"\\uc2b5\\ub2c8\\ub2e4.\"}\n",
      "\n",
      "\n",
      "{'event': {'contentBlockStop': {'contentBlockIndex': 0}}}\n",
      "{'event': {'contentBlockStart': {'start': {'toolUse': {'toolUseId': 'tooluse_24XEy-KIRuWQe6hMlTymXg', 'name': 'weather'}}, 'contentBlockIndex': 1}}}\n",
      "{'event': {'contentBlockDelta': {'delta': {'toolUse': {'input': ''}}, 'contentBlockIndex': 1}}}\n",
      "\n",
      "Tool #3: weather\n",
      "{'delta': {'toolUse': {'input': ''}}, 'current_tool_use': {'toolUseId': 'tooluse_24XEy-KIRuWQe6hMlTymXg', 'name': 'weather', 'input': ''}, 'agent': <strands.agent.agent.Agent object at 0x7dbc1fb80440>, 'event_loop_cycle_id': UUID('a69b0c68-2a06-4bc2-878a-acf340d45236'), 'request_state': {}, 'event_loop_cycle_trace': <strands.telemetry.metrics.Trace object at 0x7dbc1faa4ef0>, 'event_loop_cycle_span': NonRecordingSpan(SpanContext(trace_id=0x00000000000000000000000000000000, span_id=0x0000000000000000, trace_flags=0x00, trace_state=[], is_remote=False))}\n",
      "data: {\"type\": \"tool_use\", \"tool_name\": \"weather\"}\n",
      "\n",
      "\n",
      "{'event': {'contentBlockStop': {'contentBlockIndex': 1}}}\n",
      "{'event': {'messageStop': {'stopReason': 'tool_use'}}}\n",
      "{'event': {'metadata': {'usage': {'inputTokens': 2313, 'outputTokens': 59, 'totalTokens': 2372}, 'metrics': {'latencyMs': 1483}}}}\n",
      "{'message': {'role': 'assistant', 'content': [{'text': '현재 날씨 정보를 확인해 드리겠습니다.'}, {'toolUse': {'toolUseId': 'tooluse_24XEy-KIRuWQe6hMlTymXg', 'name': 'weather', 'input': {}}}]}}\n",
      "{'message': {'role': 'user', 'content': [{'toolResult': {'toolUseId': 'tooluse_24XEy-KIRuWQe6hMlTymXg', 'status': 'success', 'content': [{'text': 'sunny'}]}}]}}\n",
      "{'start': True}\n",
      "{'start': True}\n",
      "{'start_event_loop': True}\n",
      "{'event': {'messageStart': {'role': 'assistant'}}}\n",
      "{'event': {'contentBlockDelta': {'delta': {'text': '현재 '}, 'contentBlockIndex': 0}}}\n",
      "현재 {'data': '현재 ', 'delta': {'text': '현재 '}, 'agent': <strands.agent.agent.Agent object at 0x7dbc1fb80440>, 'event_loop_cycle_id': UUID('22999c0a-031b-48d5-ad9f-8eeb3339f474'), 'request_state': {}, 'event_loop_cycle_trace': <strands.telemetry.metrics.Trace object at 0x7dbc1fa44680>, 'event_loop_cycle_span': NonRecordingSpan(SpanContext(trace_id=0x00000000000000000000000000000000, span_id=0x0000000000000000, trace_flags=0x00, trace_state=[], is_remote=False)), 'model': <strands.models.bedrock.BedrockModel object at 0x7dbc3375f620>, 'messages': [{'role': 'user', 'content': [{'text': '날씨 어때'}]}, {'role': 'assistant', 'content': [{'text': '날씨 정보를 확인해 드리겠습니다.'}, {'toolUse': {'toolUseId': 'tooluse_wRd_0r8RTyKUa25Lvv4EEg', 'name': 'weather', 'input': {}}}]}, {'role': 'user', 'content': [{'toolResult': {'toolUseId': 'tooluse_wRd_0r8RTyKUa25Lvv4EEg', 'status': 'success', 'content': [{'text': 'sunny'}]}}]}, {'role': 'assistant', 'content': [{'text': '현재 날씨는 맑음(sunny)입니다. 오늘은 날씨가 좋아 보이네요!'}]}, {'role': 'user', 'content': [{'text': '날씨 어때'}]}, {'role': 'user', 'content': [{'text': '날씨 어때'}]}, {'role': 'assistant', 'content': [{'text': '현재 날씨 정보를 확인해 드리겠습니다.'}, {'toolUse': {'toolUseId': 'tooluse_u29QYBmjQ7CmWmn8rKQmlg', 'name': 'weather', 'input': {}}}]}, {'role': 'user', 'content': [{'toolResult': {'toolUseId': 'tooluse_u29QYBmjQ7CmWmn8rKQmlg', 'status': 'success', 'content': [{'text': 'sunny'}]}}]}, {'role': 'assistant', 'content': [{'text': '현재 날씨는 맑음(sunny)입니다. 오늘은 화창한 날씨를 즐기기 좋은 날이네요!'}]}, {'role': 'user', 'content': [{'text': '날씨 어때'}]}, {'role': 'assistant', 'content': [{'text': '현재 날씨 정보를 확인해 드리겠습니다.'}, {'toolUse': {'toolUseId': 'tooluse_24XEy-KIRuWQe6hMlTymXg', 'name': 'weather', 'input': {}}}]}, {'role': 'user', 'content': [{'toolResult': {'toolUseId': 'tooluse_24XEy-KIRuWQe6hMlTymXg', 'status': 'success', 'content': [{'text': 'sunny'}]}}]}], 'system_prompt': \"You're a helpful assistant. You can do simple math calculations, \\n    tell the weather, and provide the current time.\", 'tool_config': {'tools': [{'toolSpec': {'name': 'calculator', 'description': 'Calculator powered by SymPy for comprehensive mathematical operations.\\n\\nThis tool provides advanced mathematical functionality through multiple operation modes,\\nincluding expression evaluation, equation solving, calculus operations (derivatives, integrals),\\nlimits, series expansions, and matrix operations. Results are formatted with appropriate\\nprecision and can be displayed in scientific notation when needed.\\n\\nHow It Works:\\n------------\\n1. The function parses the mathematical expression using SymPy\\'s parser\\n2. Based on the selected mode, it routes the expression to the appropriate handler\\n3. Variables and constants are substituted with their values when provided\\n4. The expression is evaluated symbolically and/or numerically as appropriate\\n5. Results are formatted based on precision preferences and value magnitude\\n6. Rich output is generated with operation details and formatted results\\n\\nOperation Modes:\\n--------------\\n- evaluate: Calculate the value of a mathematical expression\\n- solve: Find solutions to an equation or system of equations\\n- derive: Calculate derivatives of an expression\\n- integrate: Find the indefinite integral of an expression\\n- limit: Evaluate the limit of an expression at a point\\n- series: Generate series expansion of an expression\\n- matrix: Perform matrix operations\\n\\nCommon Usage Scenarios:\\n---------------------\\n- Basic calculations: Evaluating arithmetic expressions\\n- Equation solving: Finding roots of polynomials or systems of equations\\n- Calculus: Computing derivatives and integrals for analysis\\n- Engineering analysis: Working with scientific notations and constants\\n- Mathematics education: Visualizing step-by-step solutions\\n- Data science: Matrix operations and statistical calculations\\n\\nArgs:\\n    expression: The mathematical expression to evaluate, such as \"2 + 2 * 3\",\\n        \"x**2 + 2*x + 1\", or \"sin(pi/2)\". For matrix operations, use array\\n        notation like \"[[1, 2], [3, 4]]\".\\n    mode: The calculation mode to use. Options are:\\n        - \"evaluate\": Compute the value of the expression (default)\\n        - \"solve\": Solve an equation or system of equations\\n        - \"derive\": Calculate the derivative of an expression\\n        - \"integrate\": Find the indefinite integral of an expression\\n        - \"limit\": Calculate the limit of an expression at a point\\n        - \"series\": Generate a series expansion of an expression\\n        - \"matrix\": Perform matrix operations\\n    precision: Number of decimal places for the result (default: 10).\\n        Higher values provide more precise output but may impact performance.\\n    scientific: Whether to use scientific notation for numbers (default: False).\\n        When True, formats large and small numbers using scientific notation.\\n    force_numeric: Force numeric evaluation of symbolic expressions (default: False).\\n        When True, tries to convert symbolic results to numeric values.\\n    variables: Optional dictionary of variable names and their values to substitute\\n        in the expression, e.g., {\"a\": 1, \"b\": 2}.\\n    wrt: Variable to differentiate or integrate with respect to (required for\\n        \"derive\" and \"integrate\" modes).\\n    point: Point at which to evaluate a limit (required for \"limit\" mode).\\n        Use \"oo\" for infinity.\\n    order: Order of derivative or series expansion (optional for \"derive\" and\\n        \"series\" modes, default is 1 for derivatives and 5 for series).\\n\\nReturns:\\n    Dict containing status and response content in the format:\\n    {\\n        \"status\": \"success|error\",\\n        \"content\": [{\"text\": \"Result: <calculated_result>\"}]\\n    }\\n\\n    Success case: Returns the calculation result with appropriate formatting\\n    Error case: Returns information about what went wrong during calculation\\n\\nNotes:\\n    - For equation solving, set the expression equal to zero implicitly (x**2 + 1 means x**2 + 1 = 0)\\n    - Use \\'pi\\' and \\'e\\' for mathematical constants\\n    - The \\'wrt\\' parameter is required for differentiation and integration\\n    - Matrix expressions use Python-like syntax: [[1, 2], [3, 4]]\\n    - Precision control impacts display only, internal calculations use higher precision\\n    - Symbolic results are returned when possible unless force_numeric=True', 'inputSchema': {'json': {'properties': {'expression': {'description': 'The mathematical expression to evaluate, such as \"2 + 2 * 3\",\\n\"x**2 + 2*x + 1\", or \"sin(pi/2)\". For matrix operations, use array\\nnotation like \"[[1, 2], [3, 4]]\".', 'type': 'string'}, 'mode': {'default': None, 'description': 'The calculation mode to use. Options are:\\n- \"evaluate\": Compute the value of the expression (default)\\n- \"solve\": Solve an equation or system of equations\\n- \"derive\": Calculate the derivative of an expression\\n- \"integrate\": Find the indefinite integral of an expression\\n- \"limit\": Calculate the limit of an expression at a point\\n- \"series\": Generate a series expansion of an expression\\n- \"matrix\": Perform matrix operations', 'type': 'string'}, 'precision': {'default': None, 'description': 'Number of decimal places for the result (default: 10).\\nHigher values provide more precise output but may impact performance.', 'type': 'integer'}, 'scientific': {'default': None, 'description': 'Whether to use scientific notation for numbers (default: False).\\nWhen True, formats large and small numbers using scientific notation.', 'type': 'boolean'}, 'force_numeric': {'default': None, 'description': 'Force numeric evaluation of symbolic expressions (default: False).\\nWhen True, tries to convert symbolic results to numeric values.', 'type': 'boolean'}, 'variables': {'default': None, 'description': 'Optional dictionary of variable names and their values to substitute\\nin the expression, e.g., {\"a\": 1, \"b\": 2}.', 'type': 'object'}, 'wrt': {'default': None, 'description': 'Variable to differentiate or integrate with respect to (required for\\n\"derive\" and \"integrate\" modes).', 'type': 'string'}, 'point': {'default': None, 'description': 'Point at which to evaluate a limit (required for \"limit\" mode).\\nUse \"oo\" for infinity.', 'type': 'string'}, 'order': {'default': None, 'description': 'Order of derivative or series expansion (optional for \"derive\" and\\n\"series\" modes, default is 1 for derivatives and 5 for series).', 'type': 'integer'}}, 'required': ['expression'], 'type': 'object'}}}}, {'toolSpec': {'name': 'weather', 'description': 'Get weather', 'inputSchema': {'json': {'properties': {}, 'type': 'object', 'required': []}}}}, {'toolSpec': {'name': 'get_time', 'description': 'Get current time', 'inputSchema': {'json': {'properties': {}, 'type': 'object', 'required': []}}}}], 'toolChoice': {'auto': {}}}, 'event_loop_parent_cycle_id': UUID('a69b0c68-2a06-4bc2-878a-acf340d45236')}\n",
      "data: {\"type\": \"content\", \"content\": \"\\ud604\\uc7ac \"}\n",
      "\n",
      "\n",
      "{'event': {'contentBlockDelta': {'delta': {'text': '날씨는'}, 'contentBlockIndex': 0}}}\n",
      "날씨는{'data': '날씨는', 'delta': {'text': '날씨는'}, 'agent': <strands.agent.agent.Agent object at 0x7dbc1fb80440>, 'event_loop_cycle_id': UUID('22999c0a-031b-48d5-ad9f-8eeb3339f474'), 'request_state': {}, 'event_loop_cycle_trace': <strands.telemetry.metrics.Trace object at 0x7dbc1fa44680>, 'event_loop_cycle_span': NonRecordingSpan(SpanContext(trace_id=0x00000000000000000000000000000000, span_id=0x0000000000000000, trace_flags=0x00, trace_state=[], is_remote=False)), 'model': <strands.models.bedrock.BedrockModel object at 0x7dbc3375f620>, 'messages': [{'role': 'user', 'content': [{'text': '날씨 어때'}]}, {'role': 'assistant', 'content': [{'text': '날씨 정보를 확인해 드리겠습니다.'}, {'toolUse': {'toolUseId': 'tooluse_wRd_0r8RTyKUa25Lvv4EEg', 'name': 'weather', 'input': {}}}]}, {'role': 'user', 'content': [{'toolResult': {'toolUseId': 'tooluse_wRd_0r8RTyKUa25Lvv4EEg', 'status': 'success', 'content': [{'text': 'sunny'}]}}]}, {'role': 'assistant', 'content': [{'text': '현재 날씨는 맑음(sunny)입니다. 오늘은 날씨가 좋아 보이네요!'}]}, {'role': 'user', 'content': [{'text': '날씨 어때'}]}, {'role': 'user', 'content': [{'text': '날씨 어때'}]}, {'role': 'assistant', 'content': [{'text': '현재 날씨 정보를 확인해 드리겠습니다.'}, {'toolUse': {'toolUseId': 'tooluse_u29QYBmjQ7CmWmn8rKQmlg', 'name': 'weather', 'input': {}}}]}, {'role': 'user', 'content': [{'toolResult': {'toolUseId': 'tooluse_u29QYBmjQ7CmWmn8rKQmlg', 'status': 'success', 'content': [{'text': 'sunny'}]}}]}, {'role': 'assistant', 'content': [{'text': '현재 날씨는 맑음(sunny)입니다. 오늘은 화창한 날씨를 즐기기 좋은 날이네요!'}]}, {'role': 'user', 'content': [{'text': '날씨 어때'}]}, {'role': 'assistant', 'content': [{'text': '현재 날씨 정보를 확인해 드리겠습니다.'}, {'toolUse': {'toolUseId': 'tooluse_24XEy-KIRuWQe6hMlTymXg', 'name': 'weather', 'input': {}}}]}, {'role': 'user', 'content': [{'toolResult': {'toolUseId': 'tooluse_24XEy-KIRuWQe6hMlTymXg', 'status': 'success', 'content': [{'text': 'sunny'}]}}]}], 'system_prompt': \"You're a helpful assistant. You can do simple math calculations, \\n    tell the weather, and provide the current time.\", 'tool_config': {'tools': [{'toolSpec': {'name': 'calculator', 'description': 'Calculator powered by SymPy for comprehensive mathematical operations.\\n\\nThis tool provides advanced mathematical functionality through multiple operation modes,\\nincluding expression evaluation, equation solving, calculus operations (derivatives, integrals),\\nlimits, series expansions, and matrix operations. Results are formatted with appropriate\\nprecision and can be displayed in scientific notation when needed.\\n\\nHow It Works:\\n------------\\n1. The function parses the mathematical expression using SymPy\\'s parser\\n2. Based on the selected mode, it routes the expression to the appropriate handler\\n3. Variables and constants are substituted with their values when provided\\n4. The expression is evaluated symbolically and/or numerically as appropriate\\n5. Results are formatted based on precision preferences and value magnitude\\n6. Rich output is generated with operation details and formatted results\\n\\nOperation Modes:\\n--------------\\n- evaluate: Calculate the value of a mathematical expression\\n- solve: Find solutions to an equation or system of equations\\n- derive: Calculate derivatives of an expression\\n- integrate: Find the indefinite integral of an expression\\n- limit: Evaluate the limit of an expression at a point\\n- series: Generate series expansion of an expression\\n- matrix: Perform matrix operations\\n\\nCommon Usage Scenarios:\\n---------------------\\n- Basic calculations: Evaluating arithmetic expressions\\n- Equation solving: Finding roots of polynomials or systems of equations\\n- Calculus: Computing derivatives and integrals for analysis\\n- Engineering analysis: Working with scientific notations and constants\\n- Mathematics education: Visualizing step-by-step solutions\\n- Data science: Matrix operations and statistical calculations\\n\\nArgs:\\n    expression: The mathematical expression to evaluate, such as \"2 + 2 * 3\",\\n        \"x**2 + 2*x + 1\", or \"sin(pi/2)\". For matrix operations, use array\\n        notation like \"[[1, 2], [3, 4]]\".\\n    mode: The calculation mode to use. Options are:\\n        - \"evaluate\": Compute the value of the expression (default)\\n        - \"solve\": Solve an equation or system of equations\\n        - \"derive\": Calculate the derivative of an expression\\n        - \"integrate\": Find the indefinite integral of an expression\\n        - \"limit\": Calculate the limit of an expression at a point\\n        - \"series\": Generate a series expansion of an expression\\n        - \"matrix\": Perform matrix operations\\n    precision: Number of decimal places for the result (default: 10).\\n        Higher values provide more precise output but may impact performance.\\n    scientific: Whether to use scientific notation for numbers (default: False).\\n        When True, formats large and small numbers using scientific notation.\\n    force_numeric: Force numeric evaluation of symbolic expressions (default: False).\\n        When True, tries to convert symbolic results to numeric values.\\n    variables: Optional dictionary of variable names and their values to substitute\\n        in the expression, e.g., {\"a\": 1, \"b\": 2}.\\n    wrt: Variable to differentiate or integrate with respect to (required for\\n        \"derive\" and \"integrate\" modes).\\n    point: Point at which to evaluate a limit (required for \"limit\" mode).\\n        Use \"oo\" for infinity.\\n    order: Order of derivative or series expansion (optional for \"derive\" and\\n        \"series\" modes, default is 1 for derivatives and 5 for series).\\n\\nReturns:\\n    Dict containing status and response content in the format:\\n    {\\n        \"status\": \"success|error\",\\n        \"content\": [{\"text\": \"Result: <calculated_result>\"}]\\n    }\\n\\n    Success case: Returns the calculation result with appropriate formatting\\n    Error case: Returns information about what went wrong during calculation\\n\\nNotes:\\n    - For equation solving, set the expression equal to zero implicitly (x**2 + 1 means x**2 + 1 = 0)\\n    - Use \\'pi\\' and \\'e\\' for mathematical constants\\n    - The \\'wrt\\' parameter is required for differentiation and integration\\n    - Matrix expressions use Python-like syntax: [[1, 2], [3, 4]]\\n    - Precision control impacts display only, internal calculations use higher precision\\n    - Symbolic results are returned when possible unless force_numeric=True', 'inputSchema': {'json': {'properties': {'expression': {'description': 'The mathematical expression to evaluate, such as \"2 + 2 * 3\",\\n\"x**2 + 2*x + 1\", or \"sin(pi/2)\". For matrix operations, use array\\nnotation like \"[[1, 2], [3, 4]]\".', 'type': 'string'}, 'mode': {'default': None, 'description': 'The calculation mode to use. Options are:\\n- \"evaluate\": Compute the value of the expression (default)\\n- \"solve\": Solve an equation or system of equations\\n- \"derive\": Calculate the derivative of an expression\\n- \"integrate\": Find the indefinite integral of an expression\\n- \"limit\": Calculate the limit of an expression at a point\\n- \"series\": Generate a series expansion of an expression\\n- \"matrix\": Perform matrix operations', 'type': 'string'}, 'precision': {'default': None, 'description': 'Number of decimal places for the result (default: 10).\\nHigher values provide more precise output but may impact performance.', 'type': 'integer'}, 'scientific': {'default': None, 'description': 'Whether to use scientific notation for numbers (default: False).\\nWhen True, formats large and small numbers using scientific notation.', 'type': 'boolean'}, 'force_numeric': {'default': None, 'description': 'Force numeric evaluation of symbolic expressions (default: False).\\nWhen True, tries to convert symbolic results to numeric values.', 'type': 'boolean'}, 'variables': {'default': None, 'description': 'Optional dictionary of variable names and their values to substitute\\nin the expression, e.g., {\"a\": 1, \"b\": 2}.', 'type': 'object'}, 'wrt': {'default': None, 'description': 'Variable to differentiate or integrate with respect to (required for\\n\"derive\" and \"integrate\" modes).', 'type': 'string'}, 'point': {'default': None, 'description': 'Point at which to evaluate a limit (required for \"limit\" mode).\\nUse \"oo\" for infinity.', 'type': 'string'}, 'order': {'default': None, 'description': 'Order of derivative or series expansion (optional for \"derive\" and\\n\"series\" modes, default is 1 for derivatives and 5 for series).', 'type': 'integer'}}, 'required': ['expression'], 'type': 'object'}}}}, {'toolSpec': {'name': 'weather', 'description': 'Get weather', 'inputSchema': {'json': {'properties': {}, 'type': 'object', 'required': []}}}}, {'toolSpec': {'name': 'get_time', 'description': 'Get current time', 'inputSchema': {'json': {'properties': {}, 'type': 'object', 'required': []}}}}], 'toolChoice': {'auto': {}}}, 'event_loop_parent_cycle_id': UUID('a69b0c68-2a06-4bc2-878a-acf340d45236')}\n",
      "data: {\"type\": \"content\", \"content\": \"\\ub0a0\\uc528\\ub294\"}\n",
      "\n",
      "\n",
      "{'event': {'contentBlockDelta': {'delta': {'text': ' 맑음'}, 'contentBlockIndex': 0}}}\n",
      " 맑음{'data': ' 맑음', 'delta': {'text': ' 맑음'}, 'agent': <strands.agent.agent.Agent object at 0x7dbc1fb80440>, 'event_loop_cycle_id': UUID('22999c0a-031b-48d5-ad9f-8eeb3339f474'), 'request_state': {}, 'event_loop_cycle_trace': <strands.telemetry.metrics.Trace object at 0x7dbc1fa44680>, 'event_loop_cycle_span': NonRecordingSpan(SpanContext(trace_id=0x00000000000000000000000000000000, span_id=0x0000000000000000, trace_flags=0x00, trace_state=[], is_remote=False)), 'model': <strands.models.bedrock.BedrockModel object at 0x7dbc3375f620>, 'messages': [{'role': 'user', 'content': [{'text': '날씨 어때'}]}, {'role': 'assistant', 'content': [{'text': '날씨 정보를 확인해 드리겠습니다.'}, {'toolUse': {'toolUseId': 'tooluse_wRd_0r8RTyKUa25Lvv4EEg', 'name': 'weather', 'input': {}}}]}, {'role': 'user', 'content': [{'toolResult': {'toolUseId': 'tooluse_wRd_0r8RTyKUa25Lvv4EEg', 'status': 'success', 'content': [{'text': 'sunny'}]}}]}, {'role': 'assistant', 'content': [{'text': '현재 날씨는 맑음(sunny)입니다. 오늘은 날씨가 좋아 보이네요!'}]}, {'role': 'user', 'content': [{'text': '날씨 어때'}]}, {'role': 'user', 'content': [{'text': '날씨 어때'}]}, {'role': 'assistant', 'content': [{'text': '현재 날씨 정보를 확인해 드리겠습니다.'}, {'toolUse': {'toolUseId': 'tooluse_u29QYBmjQ7CmWmn8rKQmlg', 'name': 'weather', 'input': {}}}]}, {'role': 'user', 'content': [{'toolResult': {'toolUseId': 'tooluse_u29QYBmjQ7CmWmn8rKQmlg', 'status': 'success', 'content': [{'text': 'sunny'}]}}]}, {'role': 'assistant', 'content': [{'text': '현재 날씨는 맑음(sunny)입니다. 오늘은 화창한 날씨를 즐기기 좋은 날이네요!'}]}, {'role': 'user', 'content': [{'text': '날씨 어때'}]}, {'role': 'assistant', 'content': [{'text': '현재 날씨 정보를 확인해 드리겠습니다.'}, {'toolUse': {'toolUseId': 'tooluse_24XEy-KIRuWQe6hMlTymXg', 'name': 'weather', 'input': {}}}]}, {'role': 'user', 'content': [{'toolResult': {'toolUseId': 'tooluse_24XEy-KIRuWQe6hMlTymXg', 'status': 'success', 'content': [{'text': 'sunny'}]}}]}], 'system_prompt': \"You're a helpful assistant. You can do simple math calculations, \\n    tell the weather, and provide the current time.\", 'tool_config': {'tools': [{'toolSpec': {'name': 'calculator', 'description': 'Calculator powered by SymPy for comprehensive mathematical operations.\\n\\nThis tool provides advanced mathematical functionality through multiple operation modes,\\nincluding expression evaluation, equation solving, calculus operations (derivatives, integrals),\\nlimits, series expansions, and matrix operations. Results are formatted with appropriate\\nprecision and can be displayed in scientific notation when needed.\\n\\nHow It Works:\\n------------\\n1. The function parses the mathematical expression using SymPy\\'s parser\\n2. Based on the selected mode, it routes the expression to the appropriate handler\\n3. Variables and constants are substituted with their values when provided\\n4. The expression is evaluated symbolically and/or numerically as appropriate\\n5. Results are formatted based on precision preferences and value magnitude\\n6. Rich output is generated with operation details and formatted results\\n\\nOperation Modes:\\n--------------\\n- evaluate: Calculate the value of a mathematical expression\\n- solve: Find solutions to an equation or system of equations\\n- derive: Calculate derivatives of an expression\\n- integrate: Find the indefinite integral of an expression\\n- limit: Evaluate the limit of an expression at a point\\n- series: Generate series expansion of an expression\\n- matrix: Perform matrix operations\\n\\nCommon Usage Scenarios:\\n---------------------\\n- Basic calculations: Evaluating arithmetic expressions\\n- Equation solving: Finding roots of polynomials or systems of equations\\n- Calculus: Computing derivatives and integrals for analysis\\n- Engineering analysis: Working with scientific notations and constants\\n- Mathematics education: Visualizing step-by-step solutions\\n- Data science: Matrix operations and statistical calculations\\n\\nArgs:\\n    expression: The mathematical expression to evaluate, such as \"2 + 2 * 3\",\\n        \"x**2 + 2*x + 1\", or \"sin(pi/2)\". For matrix operations, use array\\n        notation like \"[[1, 2], [3, 4]]\".\\n    mode: The calculation mode to use. Options are:\\n        - \"evaluate\": Compute the value of the expression (default)\\n        - \"solve\": Solve an equation or system of equations\\n        - \"derive\": Calculate the derivative of an expression\\n        - \"integrate\": Find the indefinite integral of an expression\\n        - \"limit\": Calculate the limit of an expression at a point\\n        - \"series\": Generate a series expansion of an expression\\n        - \"matrix\": Perform matrix operations\\n    precision: Number of decimal places for the result (default: 10).\\n        Higher values provide more precise output but may impact performance.\\n    scientific: Whether to use scientific notation for numbers (default: False).\\n        When True, formats large and small numbers using scientific notation.\\n    force_numeric: Force numeric evaluation of symbolic expressions (default: False).\\n        When True, tries to convert symbolic results to numeric values.\\n    variables: Optional dictionary of variable names and their values to substitute\\n        in the expression, e.g., {\"a\": 1, \"b\": 2}.\\n    wrt: Variable to differentiate or integrate with respect to (required for\\n        \"derive\" and \"integrate\" modes).\\n    point: Point at which to evaluate a limit (required for \"limit\" mode).\\n        Use \"oo\" for infinity.\\n    order: Order of derivative or series expansion (optional for \"derive\" and\\n        \"series\" modes, default is 1 for derivatives and 5 for series).\\n\\nReturns:\\n    Dict containing status and response content in the format:\\n    {\\n        \"status\": \"success|error\",\\n        \"content\": [{\"text\": \"Result: <calculated_result>\"}]\\n    }\\n\\n    Success case: Returns the calculation result with appropriate formatting\\n    Error case: Returns information about what went wrong during calculation\\n\\nNotes:\\n    - For equation solving, set the expression equal to zero implicitly (x**2 + 1 means x**2 + 1 = 0)\\n    - Use \\'pi\\' and \\'e\\' for mathematical constants\\n    - The \\'wrt\\' parameter is required for differentiation and integration\\n    - Matrix expressions use Python-like syntax: [[1, 2], [3, 4]]\\n    - Precision control impacts display only, internal calculations use higher precision\\n    - Symbolic results are returned when possible unless force_numeric=True', 'inputSchema': {'json': {'properties': {'expression': {'description': 'The mathematical expression to evaluate, such as \"2 + 2 * 3\",\\n\"x**2 + 2*x + 1\", or \"sin(pi/2)\". For matrix operations, use array\\nnotation like \"[[1, 2], [3, 4]]\".', 'type': 'string'}, 'mode': {'default': None, 'description': 'The calculation mode to use. Options are:\\n- \"evaluate\": Compute the value of the expression (default)\\n- \"solve\": Solve an equation or system of equations\\n- \"derive\": Calculate the derivative of an expression\\n- \"integrate\": Find the indefinite integral of an expression\\n- \"limit\": Calculate the limit of an expression at a point\\n- \"series\": Generate a series expansion of an expression\\n- \"matrix\": Perform matrix operations', 'type': 'string'}, 'precision': {'default': None, 'description': 'Number of decimal places for the result (default: 10).\\nHigher values provide more precise output but may impact performance.', 'type': 'integer'}, 'scientific': {'default': None, 'description': 'Whether to use scientific notation for numbers (default: False).\\nWhen True, formats large and small numbers using scientific notation.', 'type': 'boolean'}, 'force_numeric': {'default': None, 'description': 'Force numeric evaluation of symbolic expressions (default: False).\\nWhen True, tries to convert symbolic results to numeric values.', 'type': 'boolean'}, 'variables': {'default': None, 'description': 'Optional dictionary of variable names and their values to substitute\\nin the expression, e.g., {\"a\": 1, \"b\": 2}.', 'type': 'object'}, 'wrt': {'default': None, 'description': 'Variable to differentiate or integrate with respect to (required for\\n\"derive\" and \"integrate\" modes).', 'type': 'string'}, 'point': {'default': None, 'description': 'Point at which to evaluate a limit (required for \"limit\" mode).\\nUse \"oo\" for infinity.', 'type': 'string'}, 'order': {'default': None, 'description': 'Order of derivative or series expansion (optional for \"derive\" and\\n\"series\" modes, default is 1 for derivatives and 5 for series).', 'type': 'integer'}}, 'required': ['expression'], 'type': 'object'}}}}, {'toolSpec': {'name': 'weather', 'description': 'Get weather', 'inputSchema': {'json': {'properties': {}, 'type': 'object', 'required': []}}}}, {'toolSpec': {'name': 'get_time', 'description': 'Get current time', 'inputSchema': {'json': {'properties': {}, 'type': 'object', 'required': []}}}}], 'toolChoice': {'auto': {}}}, 'event_loop_parent_cycle_id': UUID('a69b0c68-2a06-4bc2-878a-acf340d45236')}\n",
      "data: {\"type\": \"content\", \"content\": \" \\ub9d1\\uc74c\"}\n",
      "\n",
      "\n",
      "{'event': {'contentBlockDelta': {'delta': {'text': '(sunny)입'}, 'contentBlockIndex': 0}}}\n",
      "(sunny)입{'data': '(sunny)입', 'delta': {'text': '(sunny)입'}, 'agent': <strands.agent.agent.Agent object at 0x7dbc1fb80440>, 'event_loop_cycle_id': UUID('22999c0a-031b-48d5-ad9f-8eeb3339f474'), 'request_state': {}, 'event_loop_cycle_trace': <strands.telemetry.metrics.Trace object at 0x7dbc1fa44680>, 'event_loop_cycle_span': NonRecordingSpan(SpanContext(trace_id=0x00000000000000000000000000000000, span_id=0x0000000000000000, trace_flags=0x00, trace_state=[], is_remote=False)), 'model': <strands.models.bedrock.BedrockModel object at 0x7dbc3375f620>, 'messages': [{'role': 'user', 'content': [{'text': '날씨 어때'}]}, {'role': 'assistant', 'content': [{'text': '날씨 정보를 확인해 드리겠습니다.'}, {'toolUse': {'toolUseId': 'tooluse_wRd_0r8RTyKUa25Lvv4EEg', 'name': 'weather', 'input': {}}}]}, {'role': 'user', 'content': [{'toolResult': {'toolUseId': 'tooluse_wRd_0r8RTyKUa25Lvv4EEg', 'status': 'success', 'content': [{'text': 'sunny'}]}}]}, {'role': 'assistant', 'content': [{'text': '현재 날씨는 맑음(sunny)입니다. 오늘은 날씨가 좋아 보이네요!'}]}, {'role': 'user', 'content': [{'text': '날씨 어때'}]}, {'role': 'user', 'content': [{'text': '날씨 어때'}]}, {'role': 'assistant', 'content': [{'text': '현재 날씨 정보를 확인해 드리겠습니다.'}, {'toolUse': {'toolUseId': 'tooluse_u29QYBmjQ7CmWmn8rKQmlg', 'name': 'weather', 'input': {}}}]}, {'role': 'user', 'content': [{'toolResult': {'toolUseId': 'tooluse_u29QYBmjQ7CmWmn8rKQmlg', 'status': 'success', 'content': [{'text': 'sunny'}]}}]}, {'role': 'assistant', 'content': [{'text': '현재 날씨는 맑음(sunny)입니다. 오늘은 화창한 날씨를 즐기기 좋은 날이네요!'}]}, {'role': 'user', 'content': [{'text': '날씨 어때'}]}, {'role': 'assistant', 'content': [{'text': '현재 날씨 정보를 확인해 드리겠습니다.'}, {'toolUse': {'toolUseId': 'tooluse_24XEy-KIRuWQe6hMlTymXg', 'name': 'weather', 'input': {}}}]}, {'role': 'user', 'content': [{'toolResult': {'toolUseId': 'tooluse_24XEy-KIRuWQe6hMlTymXg', 'status': 'success', 'content': [{'text': 'sunny'}]}}]}], 'system_prompt': \"You're a helpful assistant. You can do simple math calculations, \\n    tell the weather, and provide the current time.\", 'tool_config': {'tools': [{'toolSpec': {'name': 'calculator', 'description': 'Calculator powered by SymPy for comprehensive mathematical operations.\\n\\nThis tool provides advanced mathematical functionality through multiple operation modes,\\nincluding expression evaluation, equation solving, calculus operations (derivatives, integrals),\\nlimits, series expansions, and matrix operations. Results are formatted with appropriate\\nprecision and can be displayed in scientific notation when needed.\\n\\nHow It Works:\\n------------\\n1. The function parses the mathematical expression using SymPy\\'s parser\\n2. Based on the selected mode, it routes the expression to the appropriate handler\\n3. Variables and constants are substituted with their values when provided\\n4. The expression is evaluated symbolically and/or numerically as appropriate\\n5. Results are formatted based on precision preferences and value magnitude\\n6. Rich output is generated with operation details and formatted results\\n\\nOperation Modes:\\n--------------\\n- evaluate: Calculate the value of a mathematical expression\\n- solve: Find solutions to an equation or system of equations\\n- derive: Calculate derivatives of an expression\\n- integrate: Find the indefinite integral of an expression\\n- limit: Evaluate the limit of an expression at a point\\n- series: Generate series expansion of an expression\\n- matrix: Perform matrix operations\\n\\nCommon Usage Scenarios:\\n---------------------\\n- Basic calculations: Evaluating arithmetic expressions\\n- Equation solving: Finding roots of polynomials or systems of equations\\n- Calculus: Computing derivatives and integrals for analysis\\n- Engineering analysis: Working with scientific notations and constants\\n- Mathematics education: Visualizing step-by-step solutions\\n- Data science: Matrix operations and statistical calculations\\n\\nArgs:\\n    expression: The mathematical expression to evaluate, such as \"2 + 2 * 3\",\\n        \"x**2 + 2*x + 1\", or \"sin(pi/2)\". For matrix operations, use array\\n        notation like \"[[1, 2], [3, 4]]\".\\n    mode: The calculation mode to use. Options are:\\n        - \"evaluate\": Compute the value of the expression (default)\\n        - \"solve\": Solve an equation or system of equations\\n        - \"derive\": Calculate the derivative of an expression\\n        - \"integrate\": Find the indefinite integral of an expression\\n        - \"limit\": Calculate the limit of an expression at a point\\n        - \"series\": Generate a series expansion of an expression\\n        - \"matrix\": Perform matrix operations\\n    precision: Number of decimal places for the result (default: 10).\\n        Higher values provide more precise output but may impact performance.\\n    scientific: Whether to use scientific notation for numbers (default: False).\\n        When True, formats large and small numbers using scientific notation.\\n    force_numeric: Force numeric evaluation of symbolic expressions (default: False).\\n        When True, tries to convert symbolic results to numeric values.\\n    variables: Optional dictionary of variable names and their values to substitute\\n        in the expression, e.g., {\"a\": 1, \"b\": 2}.\\n    wrt: Variable to differentiate or integrate with respect to (required for\\n        \"derive\" and \"integrate\" modes).\\n    point: Point at which to evaluate a limit (required for \"limit\" mode).\\n        Use \"oo\" for infinity.\\n    order: Order of derivative or series expansion (optional for \"derive\" and\\n        \"series\" modes, default is 1 for derivatives and 5 for series).\\n\\nReturns:\\n    Dict containing status and response content in the format:\\n    {\\n        \"status\": \"success|error\",\\n        \"content\": [{\"text\": \"Result: <calculated_result>\"}]\\n    }\\n\\n    Success case: Returns the calculation result with appropriate formatting\\n    Error case: Returns information about what went wrong during calculation\\n\\nNotes:\\n    - For equation solving, set the expression equal to zero implicitly (x**2 + 1 means x**2 + 1 = 0)\\n    - Use \\'pi\\' and \\'e\\' for mathematical constants\\n    - The \\'wrt\\' parameter is required for differentiation and integration\\n    - Matrix expressions use Python-like syntax: [[1, 2], [3, 4]]\\n    - Precision control impacts display only, internal calculations use higher precision\\n    - Symbolic results are returned when possible unless force_numeric=True', 'inputSchema': {'json': {'properties': {'expression': {'description': 'The mathematical expression to evaluate, such as \"2 + 2 * 3\",\\n\"x**2 + 2*x + 1\", or \"sin(pi/2)\". For matrix operations, use array\\nnotation like \"[[1, 2], [3, 4]]\".', 'type': 'string'}, 'mode': {'default': None, 'description': 'The calculation mode to use. Options are:\\n- \"evaluate\": Compute the value of the expression (default)\\n- \"solve\": Solve an equation or system of equations\\n- \"derive\": Calculate the derivative of an expression\\n- \"integrate\": Find the indefinite integral of an expression\\n- \"limit\": Calculate the limit of an expression at a point\\n- \"series\": Generate a series expansion of an expression\\n- \"matrix\": Perform matrix operations', 'type': 'string'}, 'precision': {'default': None, 'description': 'Number of decimal places for the result (default: 10).\\nHigher values provide more precise output but may impact performance.', 'type': 'integer'}, 'scientific': {'default': None, 'description': 'Whether to use scientific notation for numbers (default: False).\\nWhen True, formats large and small numbers using scientific notation.', 'type': 'boolean'}, 'force_numeric': {'default': None, 'description': 'Force numeric evaluation of symbolic expressions (default: False).\\nWhen True, tries to convert symbolic results to numeric values.', 'type': 'boolean'}, 'variables': {'default': None, 'description': 'Optional dictionary of variable names and their values to substitute\\nin the expression, e.g., {\"a\": 1, \"b\": 2}.', 'type': 'object'}, 'wrt': {'default': None, 'description': 'Variable to differentiate or integrate with respect to (required for\\n\"derive\" and \"integrate\" modes).', 'type': 'string'}, 'point': {'default': None, 'description': 'Point at which to evaluate a limit (required for \"limit\" mode).\\nUse \"oo\" for infinity.', 'type': 'string'}, 'order': {'default': None, 'description': 'Order of derivative or series expansion (optional for \"derive\" and\\n\"series\" modes, default is 1 for derivatives and 5 for series).', 'type': 'integer'}}, 'required': ['expression'], 'type': 'object'}}}}, {'toolSpec': {'name': 'weather', 'description': 'Get weather', 'inputSchema': {'json': {'properties': {}, 'type': 'object', 'required': []}}}}, {'toolSpec': {'name': 'get_time', 'description': 'Get current time', 'inputSchema': {'json': {'properties': {}, 'type': 'object', 'required': []}}}}], 'toolChoice': {'auto': {}}}, 'event_loop_parent_cycle_id': UUID('a69b0c68-2a06-4bc2-878a-acf340d45236')}\n",
      "data: {\"type\": \"content\", \"content\": \"(sunny)\\uc785\"}\n",
      "\n",
      "\n",
      "{'event': {'contentBlockDelta': {'delta': {'text': '니다. '}, 'contentBlockIndex': 0}}}\n",
      "니다. {'data': '니다. ', 'delta': {'text': '니다. '}, 'agent': <strands.agent.agent.Agent object at 0x7dbc1fb80440>, 'event_loop_cycle_id': UUID('22999c0a-031b-48d5-ad9f-8eeb3339f474'), 'request_state': {}, 'event_loop_cycle_trace': <strands.telemetry.metrics.Trace object at 0x7dbc1fa44680>, 'event_loop_cycle_span': NonRecordingSpan(SpanContext(trace_id=0x00000000000000000000000000000000, span_id=0x0000000000000000, trace_flags=0x00, trace_state=[], is_remote=False)), 'model': <strands.models.bedrock.BedrockModel object at 0x7dbc3375f620>, 'messages': [{'role': 'user', 'content': [{'text': '날씨 어때'}]}, {'role': 'assistant', 'content': [{'text': '날씨 정보를 확인해 드리겠습니다.'}, {'toolUse': {'toolUseId': 'tooluse_wRd_0r8RTyKUa25Lvv4EEg', 'name': 'weather', 'input': {}}}]}, {'role': 'user', 'content': [{'toolResult': {'toolUseId': 'tooluse_wRd_0r8RTyKUa25Lvv4EEg', 'status': 'success', 'content': [{'text': 'sunny'}]}}]}, {'role': 'assistant', 'content': [{'text': '현재 날씨는 맑음(sunny)입니다. 오늘은 날씨가 좋아 보이네요!'}]}, {'role': 'user', 'content': [{'text': '날씨 어때'}]}, {'role': 'user', 'content': [{'text': '날씨 어때'}]}, {'role': 'assistant', 'content': [{'text': '현재 날씨 정보를 확인해 드리겠습니다.'}, {'toolUse': {'toolUseId': 'tooluse_u29QYBmjQ7CmWmn8rKQmlg', 'name': 'weather', 'input': {}}}]}, {'role': 'user', 'content': [{'toolResult': {'toolUseId': 'tooluse_u29QYBmjQ7CmWmn8rKQmlg', 'status': 'success', 'content': [{'text': 'sunny'}]}}]}, {'role': 'assistant', 'content': [{'text': '현재 날씨는 맑음(sunny)입니다. 오늘은 화창한 날씨를 즐기기 좋은 날이네요!'}]}, {'role': 'user', 'content': [{'text': '날씨 어때'}]}, {'role': 'assistant', 'content': [{'text': '현재 날씨 정보를 확인해 드리겠습니다.'}, {'toolUse': {'toolUseId': 'tooluse_24XEy-KIRuWQe6hMlTymXg', 'name': 'weather', 'input': {}}}]}, {'role': 'user', 'content': [{'toolResult': {'toolUseId': 'tooluse_24XEy-KIRuWQe6hMlTymXg', 'status': 'success', 'content': [{'text': 'sunny'}]}}]}], 'system_prompt': \"You're a helpful assistant. You can do simple math calculations, \\n    tell the weather, and provide the current time.\", 'tool_config': {'tools': [{'toolSpec': {'name': 'calculator', 'description': 'Calculator powered by SymPy for comprehensive mathematical operations.\\n\\nThis tool provides advanced mathematical functionality through multiple operation modes,\\nincluding expression evaluation, equation solving, calculus operations (derivatives, integrals),\\nlimits, series expansions, and matrix operations. Results are formatted with appropriate\\nprecision and can be displayed in scientific notation when needed.\\n\\nHow It Works:\\n------------\\n1. The function parses the mathematical expression using SymPy\\'s parser\\n2. Based on the selected mode, it routes the expression to the appropriate handler\\n3. Variables and constants are substituted with their values when provided\\n4. The expression is evaluated symbolically and/or numerically as appropriate\\n5. Results are formatted based on precision preferences and value magnitude\\n6. Rich output is generated with operation details and formatted results\\n\\nOperation Modes:\\n--------------\\n- evaluate: Calculate the value of a mathematical expression\\n- solve: Find solutions to an equation or system of equations\\n- derive: Calculate derivatives of an expression\\n- integrate: Find the indefinite integral of an expression\\n- limit: Evaluate the limit of an expression at a point\\n- series: Generate series expansion of an expression\\n- matrix: Perform matrix operations\\n\\nCommon Usage Scenarios:\\n---------------------\\n- Basic calculations: Evaluating arithmetic expressions\\n- Equation solving: Finding roots of polynomials or systems of equations\\n- Calculus: Computing derivatives and integrals for analysis\\n- Engineering analysis: Working with scientific notations and constants\\n- Mathematics education: Visualizing step-by-step solutions\\n- Data science: Matrix operations and statistical calculations\\n\\nArgs:\\n    expression: The mathematical expression to evaluate, such as \"2 + 2 * 3\",\\n        \"x**2 + 2*x + 1\", or \"sin(pi/2)\". For matrix operations, use array\\n        notation like \"[[1, 2], [3, 4]]\".\\n    mode: The calculation mode to use. Options are:\\n        - \"evaluate\": Compute the value of the expression (default)\\n        - \"solve\": Solve an equation or system of equations\\n        - \"derive\": Calculate the derivative of an expression\\n        - \"integrate\": Find the indefinite integral of an expression\\n        - \"limit\": Calculate the limit of an expression at a point\\n        - \"series\": Generate a series expansion of an expression\\n        - \"matrix\": Perform matrix operations\\n    precision: Number of decimal places for the result (default: 10).\\n        Higher values provide more precise output but may impact performance.\\n    scientific: Whether to use scientific notation for numbers (default: False).\\n        When True, formats large and small numbers using scientific notation.\\n    force_numeric: Force numeric evaluation of symbolic expressions (default: False).\\n        When True, tries to convert symbolic results to numeric values.\\n    variables: Optional dictionary of variable names and their values to substitute\\n        in the expression, e.g., {\"a\": 1, \"b\": 2}.\\n    wrt: Variable to differentiate or integrate with respect to (required for\\n        \"derive\" and \"integrate\" modes).\\n    point: Point at which to evaluate a limit (required for \"limit\" mode).\\n        Use \"oo\" for infinity.\\n    order: Order of derivative or series expansion (optional for \"derive\" and\\n        \"series\" modes, default is 1 for derivatives and 5 for series).\\n\\nReturns:\\n    Dict containing status and response content in the format:\\n    {\\n        \"status\": \"success|error\",\\n        \"content\": [{\"text\": \"Result: <calculated_result>\"}]\\n    }\\n\\n    Success case: Returns the calculation result with appropriate formatting\\n    Error case: Returns information about what went wrong during calculation\\n\\nNotes:\\n    - For equation solving, set the expression equal to zero implicitly (x**2 + 1 means x**2 + 1 = 0)\\n    - Use \\'pi\\' and \\'e\\' for mathematical constants\\n    - The \\'wrt\\' parameter is required for differentiation and integration\\n    - Matrix expressions use Python-like syntax: [[1, 2], [3, 4]]\\n    - Precision control impacts display only, internal calculations use higher precision\\n    - Symbolic results are returned when possible unless force_numeric=True', 'inputSchema': {'json': {'properties': {'expression': {'description': 'The mathematical expression to evaluate, such as \"2 + 2 * 3\",\\n\"x**2 + 2*x + 1\", or \"sin(pi/2)\". For matrix operations, use array\\nnotation like \"[[1, 2], [3, 4]]\".', 'type': 'string'}, 'mode': {'default': None, 'description': 'The calculation mode to use. Options are:\\n- \"evaluate\": Compute the value of the expression (default)\\n- \"solve\": Solve an equation or system of equations\\n- \"derive\": Calculate the derivative of an expression\\n- \"integrate\": Find the indefinite integral of an expression\\n- \"limit\": Calculate the limit of an expression at a point\\n- \"series\": Generate a series expansion of an expression\\n- \"matrix\": Perform matrix operations', 'type': 'string'}, 'precision': {'default': None, 'description': 'Number of decimal places for the result (default: 10).\\nHigher values provide more precise output but may impact performance.', 'type': 'integer'}, 'scientific': {'default': None, 'description': 'Whether to use scientific notation for numbers (default: False).\\nWhen True, formats large and small numbers using scientific notation.', 'type': 'boolean'}, 'force_numeric': {'default': None, 'description': 'Force numeric evaluation of symbolic expressions (default: False).\\nWhen True, tries to convert symbolic results to numeric values.', 'type': 'boolean'}, 'variables': {'default': None, 'description': 'Optional dictionary of variable names and their values to substitute\\nin the expression, e.g., {\"a\": 1, \"b\": 2}.', 'type': 'object'}, 'wrt': {'default': None, 'description': 'Variable to differentiate or integrate with respect to (required for\\n\"derive\" and \"integrate\" modes).', 'type': 'string'}, 'point': {'default': None, 'description': 'Point at which to evaluate a limit (required for \"limit\" mode).\\nUse \"oo\" for infinity.', 'type': 'string'}, 'order': {'default': None, 'description': 'Order of derivative or series expansion (optional for \"derive\" and\\n\"series\" modes, default is 1 for derivatives and 5 for series).', 'type': 'integer'}}, 'required': ['expression'], 'type': 'object'}}}}, {'toolSpec': {'name': 'weather', 'description': 'Get weather', 'inputSchema': {'json': {'properties': {}, 'type': 'object', 'required': []}}}}, {'toolSpec': {'name': 'get_time', 'description': 'Get current time', 'inputSchema': {'json': {'properties': {}, 'type': 'object', 'required': []}}}}], 'toolChoice': {'auto': {}}}, 'event_loop_parent_cycle_id': UUID('a69b0c68-2a06-4bc2-878a-acf340d45236')}\n",
      "data: {\"type\": \"content\", \"content\": \"\\ub2c8\\ub2e4. \"}\n",
      "\n",
      "\n",
      "{'event': {'contentBlockDelta': {'delta': {'text': '오늘은'}, 'contentBlockIndex': 0}}}\n",
      "오늘은{'data': '오늘은', 'delta': {'text': '오늘은'}, 'agent': <strands.agent.agent.Agent object at 0x7dbc1fb80440>, 'event_loop_cycle_id': UUID('22999c0a-031b-48d5-ad9f-8eeb3339f474'), 'request_state': {}, 'event_loop_cycle_trace': <strands.telemetry.metrics.Trace object at 0x7dbc1fa44680>, 'event_loop_cycle_span': NonRecordingSpan(SpanContext(trace_id=0x00000000000000000000000000000000, span_id=0x0000000000000000, trace_flags=0x00, trace_state=[], is_remote=False)), 'model': <strands.models.bedrock.BedrockModel object at 0x7dbc3375f620>, 'messages': [{'role': 'user', 'content': [{'text': '날씨 어때'}]}, {'role': 'assistant', 'content': [{'text': '날씨 정보를 확인해 드리겠습니다.'}, {'toolUse': {'toolUseId': 'tooluse_wRd_0r8RTyKUa25Lvv4EEg', 'name': 'weather', 'input': {}}}]}, {'role': 'user', 'content': [{'toolResult': {'toolUseId': 'tooluse_wRd_0r8RTyKUa25Lvv4EEg', 'status': 'success', 'content': [{'text': 'sunny'}]}}]}, {'role': 'assistant', 'content': [{'text': '현재 날씨는 맑음(sunny)입니다. 오늘은 날씨가 좋아 보이네요!'}]}, {'role': 'user', 'content': [{'text': '날씨 어때'}]}, {'role': 'user', 'content': [{'text': '날씨 어때'}]}, {'role': 'assistant', 'content': [{'text': '현재 날씨 정보를 확인해 드리겠습니다.'}, {'toolUse': {'toolUseId': 'tooluse_u29QYBmjQ7CmWmn8rKQmlg', 'name': 'weather', 'input': {}}}]}, {'role': 'user', 'content': [{'toolResult': {'toolUseId': 'tooluse_u29QYBmjQ7CmWmn8rKQmlg', 'status': 'success', 'content': [{'text': 'sunny'}]}}]}, {'role': 'assistant', 'content': [{'text': '현재 날씨는 맑음(sunny)입니다. 오늘은 화창한 날씨를 즐기기 좋은 날이네요!'}]}, {'role': 'user', 'content': [{'text': '날씨 어때'}]}, {'role': 'assistant', 'content': [{'text': '현재 날씨 정보를 확인해 드리겠습니다.'}, {'toolUse': {'toolUseId': 'tooluse_24XEy-KIRuWQe6hMlTymXg', 'name': 'weather', 'input': {}}}]}, {'role': 'user', 'content': [{'toolResult': {'toolUseId': 'tooluse_24XEy-KIRuWQe6hMlTymXg', 'status': 'success', 'content': [{'text': 'sunny'}]}}]}], 'system_prompt': \"You're a helpful assistant. You can do simple math calculations, \\n    tell the weather, and provide the current time.\", 'tool_config': {'tools': [{'toolSpec': {'name': 'calculator', 'description': 'Calculator powered by SymPy for comprehensive mathematical operations.\\n\\nThis tool provides advanced mathematical functionality through multiple operation modes,\\nincluding expression evaluation, equation solving, calculus operations (derivatives, integrals),\\nlimits, series expansions, and matrix operations. Results are formatted with appropriate\\nprecision and can be displayed in scientific notation when needed.\\n\\nHow It Works:\\n------------\\n1. The function parses the mathematical expression using SymPy\\'s parser\\n2. Based on the selected mode, it routes the expression to the appropriate handler\\n3. Variables and constants are substituted with their values when provided\\n4. The expression is evaluated symbolically and/or numerically as appropriate\\n5. Results are formatted based on precision preferences and value magnitude\\n6. Rich output is generated with operation details and formatted results\\n\\nOperation Modes:\\n--------------\\n- evaluate: Calculate the value of a mathematical expression\\n- solve: Find solutions to an equation or system of equations\\n- derive: Calculate derivatives of an expression\\n- integrate: Find the indefinite integral of an expression\\n- limit: Evaluate the limit of an expression at a point\\n- series: Generate series expansion of an expression\\n- matrix: Perform matrix operations\\n\\nCommon Usage Scenarios:\\n---------------------\\n- Basic calculations: Evaluating arithmetic expressions\\n- Equation solving: Finding roots of polynomials or systems of equations\\n- Calculus: Computing derivatives and integrals for analysis\\n- Engineering analysis: Working with scientific notations and constants\\n- Mathematics education: Visualizing step-by-step solutions\\n- Data science: Matrix operations and statistical calculations\\n\\nArgs:\\n    expression: The mathematical expression to evaluate, such as \"2 + 2 * 3\",\\n        \"x**2 + 2*x + 1\", or \"sin(pi/2)\". For matrix operations, use array\\n        notation like \"[[1, 2], [3, 4]]\".\\n    mode: The calculation mode to use. Options are:\\n        - \"evaluate\": Compute the value of the expression (default)\\n        - \"solve\": Solve an equation or system of equations\\n        - \"derive\": Calculate the derivative of an expression\\n        - \"integrate\": Find the indefinite integral of an expression\\n        - \"limit\": Calculate the limit of an expression at a point\\n        - \"series\": Generate a series expansion of an expression\\n        - \"matrix\": Perform matrix operations\\n    precision: Number of decimal places for the result (default: 10).\\n        Higher values provide more precise output but may impact performance.\\n    scientific: Whether to use scientific notation for numbers (default: False).\\n        When True, formats large and small numbers using scientific notation.\\n    force_numeric: Force numeric evaluation of symbolic expressions (default: False).\\n        When True, tries to convert symbolic results to numeric values.\\n    variables: Optional dictionary of variable names and their values to substitute\\n        in the expression, e.g., {\"a\": 1, \"b\": 2}.\\n    wrt: Variable to differentiate or integrate with respect to (required for\\n        \"derive\" and \"integrate\" modes).\\n    point: Point at which to evaluate a limit (required for \"limit\" mode).\\n        Use \"oo\" for infinity.\\n    order: Order of derivative or series expansion (optional for \"derive\" and\\n        \"series\" modes, default is 1 for derivatives and 5 for series).\\n\\nReturns:\\n    Dict containing status and response content in the format:\\n    {\\n        \"status\": \"success|error\",\\n        \"content\": [{\"text\": \"Result: <calculated_result>\"}]\\n    }\\n\\n    Success case: Returns the calculation result with appropriate formatting\\n    Error case: Returns information about what went wrong during calculation\\n\\nNotes:\\n    - For equation solving, set the expression equal to zero implicitly (x**2 + 1 means x**2 + 1 = 0)\\n    - Use \\'pi\\' and \\'e\\' for mathematical constants\\n    - The \\'wrt\\' parameter is required for differentiation and integration\\n    - Matrix expressions use Python-like syntax: [[1, 2], [3, 4]]\\n    - Precision control impacts display only, internal calculations use higher precision\\n    - Symbolic results are returned when possible unless force_numeric=True', 'inputSchema': {'json': {'properties': {'expression': {'description': 'The mathematical expression to evaluate, such as \"2 + 2 * 3\",\\n\"x**2 + 2*x + 1\", or \"sin(pi/2)\". For matrix operations, use array\\nnotation like \"[[1, 2], [3, 4]]\".', 'type': 'string'}, 'mode': {'default': None, 'description': 'The calculation mode to use. Options are:\\n- \"evaluate\": Compute the value of the expression (default)\\n- \"solve\": Solve an equation or system of equations\\n- \"derive\": Calculate the derivative of an expression\\n- \"integrate\": Find the indefinite integral of an expression\\n- \"limit\": Calculate the limit of an expression at a point\\n- \"series\": Generate a series expansion of an expression\\n- \"matrix\": Perform matrix operations', 'type': 'string'}, 'precision': {'default': None, 'description': 'Number of decimal places for the result (default: 10).\\nHigher values provide more precise output but may impact performance.', 'type': 'integer'}, 'scientific': {'default': None, 'description': 'Whether to use scientific notation for numbers (default: False).\\nWhen True, formats large and small numbers using scientific notation.', 'type': 'boolean'}, 'force_numeric': {'default': None, 'description': 'Force numeric evaluation of symbolic expressions (default: False).\\nWhen True, tries to convert symbolic results to numeric values.', 'type': 'boolean'}, 'variables': {'default': None, 'description': 'Optional dictionary of variable names and their values to substitute\\nin the expression, e.g., {\"a\": 1, \"b\": 2}.', 'type': 'object'}, 'wrt': {'default': None, 'description': 'Variable to differentiate or integrate with respect to (required for\\n\"derive\" and \"integrate\" modes).', 'type': 'string'}, 'point': {'default': None, 'description': 'Point at which to evaluate a limit (required for \"limit\" mode).\\nUse \"oo\" for infinity.', 'type': 'string'}, 'order': {'default': None, 'description': 'Order of derivative or series expansion (optional for \"derive\" and\\n\"series\" modes, default is 1 for derivatives and 5 for series).', 'type': 'integer'}}, 'required': ['expression'], 'type': 'object'}}}}, {'toolSpec': {'name': 'weather', 'description': 'Get weather', 'inputSchema': {'json': {'properties': {}, 'type': 'object', 'required': []}}}}, {'toolSpec': {'name': 'get_time', 'description': 'Get current time', 'inputSchema': {'json': {'properties': {}, 'type': 'object', 'required': []}}}}], 'toolChoice': {'auto': {}}}, 'event_loop_parent_cycle_id': UUID('a69b0c68-2a06-4bc2-878a-acf340d45236')}\n",
      "data: {\"type\": \"content\", \"content\": \"\\uc624\\ub298\\uc740\"}\n",
      "\n",
      "\n",
      "{'event': {'contentBlockDelta': {'delta': {'text': ' 화창한'}, 'contentBlockIndex': 0}}}\n",
      " 화창한{'data': ' 화창한', 'delta': {'text': ' 화창한'}, 'agent': <strands.agent.agent.Agent object at 0x7dbc1fb80440>, 'event_loop_cycle_id': UUID('22999c0a-031b-48d5-ad9f-8eeb3339f474'), 'request_state': {}, 'event_loop_cycle_trace': <strands.telemetry.metrics.Trace object at 0x7dbc1fa44680>, 'event_loop_cycle_span': NonRecordingSpan(SpanContext(trace_id=0x00000000000000000000000000000000, span_id=0x0000000000000000, trace_flags=0x00, trace_state=[], is_remote=False)), 'model': <strands.models.bedrock.BedrockModel object at 0x7dbc3375f620>, 'messages': [{'role': 'user', 'content': [{'text': '날씨 어때'}]}, {'role': 'assistant', 'content': [{'text': '날씨 정보를 확인해 드리겠습니다.'}, {'toolUse': {'toolUseId': 'tooluse_wRd_0r8RTyKUa25Lvv4EEg', 'name': 'weather', 'input': {}}}]}, {'role': 'user', 'content': [{'toolResult': {'toolUseId': 'tooluse_wRd_0r8RTyKUa25Lvv4EEg', 'status': 'success', 'content': [{'text': 'sunny'}]}}]}, {'role': 'assistant', 'content': [{'text': '현재 날씨는 맑음(sunny)입니다. 오늘은 날씨가 좋아 보이네요!'}]}, {'role': 'user', 'content': [{'text': '날씨 어때'}]}, {'role': 'user', 'content': [{'text': '날씨 어때'}]}, {'role': 'assistant', 'content': [{'text': '현재 날씨 정보를 확인해 드리겠습니다.'}, {'toolUse': {'toolUseId': 'tooluse_u29QYBmjQ7CmWmn8rKQmlg', 'name': 'weather', 'input': {}}}]}, {'role': 'user', 'content': [{'toolResult': {'toolUseId': 'tooluse_u29QYBmjQ7CmWmn8rKQmlg', 'status': 'success', 'content': [{'text': 'sunny'}]}}]}, {'role': 'assistant', 'content': [{'text': '현재 날씨는 맑음(sunny)입니다. 오늘은 화창한 날씨를 즐기기 좋은 날이네요!'}]}, {'role': 'user', 'content': [{'text': '날씨 어때'}]}, {'role': 'assistant', 'content': [{'text': '현재 날씨 정보를 확인해 드리겠습니다.'}, {'toolUse': {'toolUseId': 'tooluse_24XEy-KIRuWQe6hMlTymXg', 'name': 'weather', 'input': {}}}]}, {'role': 'user', 'content': [{'toolResult': {'toolUseId': 'tooluse_24XEy-KIRuWQe6hMlTymXg', 'status': 'success', 'content': [{'text': 'sunny'}]}}]}], 'system_prompt': \"You're a helpful assistant. You can do simple math calculations, \\n    tell the weather, and provide the current time.\", 'tool_config': {'tools': [{'toolSpec': {'name': 'calculator', 'description': 'Calculator powered by SymPy for comprehensive mathematical operations.\\n\\nThis tool provides advanced mathematical functionality through multiple operation modes,\\nincluding expression evaluation, equation solving, calculus operations (derivatives, integrals),\\nlimits, series expansions, and matrix operations. Results are formatted with appropriate\\nprecision and can be displayed in scientific notation when needed.\\n\\nHow It Works:\\n------------\\n1. The function parses the mathematical expression using SymPy\\'s parser\\n2. Based on the selected mode, it routes the expression to the appropriate handler\\n3. Variables and constants are substituted with their values when provided\\n4. The expression is evaluated symbolically and/or numerically as appropriate\\n5. Results are formatted based on precision preferences and value magnitude\\n6. Rich output is generated with operation details and formatted results\\n\\nOperation Modes:\\n--------------\\n- evaluate: Calculate the value of a mathematical expression\\n- solve: Find solutions to an equation or system of equations\\n- derive: Calculate derivatives of an expression\\n- integrate: Find the indefinite integral of an expression\\n- limit: Evaluate the limit of an expression at a point\\n- series: Generate series expansion of an expression\\n- matrix: Perform matrix operations\\n\\nCommon Usage Scenarios:\\n---------------------\\n- Basic calculations: Evaluating arithmetic expressions\\n- Equation solving: Finding roots of polynomials or systems of equations\\n- Calculus: Computing derivatives and integrals for analysis\\n- Engineering analysis: Working with scientific notations and constants\\n- Mathematics education: Visualizing step-by-step solutions\\n- Data science: Matrix operations and statistical calculations\\n\\nArgs:\\n    expression: The mathematical expression to evaluate, such as \"2 + 2 * 3\",\\n        \"x**2 + 2*x + 1\", or \"sin(pi/2)\". For matrix operations, use array\\n        notation like \"[[1, 2], [3, 4]]\".\\n    mode: The calculation mode to use. Options are:\\n        - \"evaluate\": Compute the value of the expression (default)\\n        - \"solve\": Solve an equation or system of equations\\n        - \"derive\": Calculate the derivative of an expression\\n        - \"integrate\": Find the indefinite integral of an expression\\n        - \"limit\": Calculate the limit of an expression at a point\\n        - \"series\": Generate a series expansion of an expression\\n        - \"matrix\": Perform matrix operations\\n    precision: Number of decimal places for the result (default: 10).\\n        Higher values provide more precise output but may impact performance.\\n    scientific: Whether to use scientific notation for numbers (default: False).\\n        When True, formats large and small numbers using scientific notation.\\n    force_numeric: Force numeric evaluation of symbolic expressions (default: False).\\n        When True, tries to convert symbolic results to numeric values.\\n    variables: Optional dictionary of variable names and their values to substitute\\n        in the expression, e.g., {\"a\": 1, \"b\": 2}.\\n    wrt: Variable to differentiate or integrate with respect to (required for\\n        \"derive\" and \"integrate\" modes).\\n    point: Point at which to evaluate a limit (required for \"limit\" mode).\\n        Use \"oo\" for infinity.\\n    order: Order of derivative or series expansion (optional for \"derive\" and\\n        \"series\" modes, default is 1 for derivatives and 5 for series).\\n\\nReturns:\\n    Dict containing status and response content in the format:\\n    {\\n        \"status\": \"success|error\",\\n        \"content\": [{\"text\": \"Result: <calculated_result>\"}]\\n    }\\n\\n    Success case: Returns the calculation result with appropriate formatting\\n    Error case: Returns information about what went wrong during calculation\\n\\nNotes:\\n    - For equation solving, set the expression equal to zero implicitly (x**2 + 1 means x**2 + 1 = 0)\\n    - Use \\'pi\\' and \\'e\\' for mathematical constants\\n    - The \\'wrt\\' parameter is required for differentiation and integration\\n    - Matrix expressions use Python-like syntax: [[1, 2], [3, 4]]\\n    - Precision control impacts display only, internal calculations use higher precision\\n    - Symbolic results are returned when possible unless force_numeric=True', 'inputSchema': {'json': {'properties': {'expression': {'description': 'The mathematical expression to evaluate, such as \"2 + 2 * 3\",\\n\"x**2 + 2*x + 1\", or \"sin(pi/2)\". For matrix operations, use array\\nnotation like \"[[1, 2], [3, 4]]\".', 'type': 'string'}, 'mode': {'default': None, 'description': 'The calculation mode to use. Options are:\\n- \"evaluate\": Compute the value of the expression (default)\\n- \"solve\": Solve an equation or system of equations\\n- \"derive\": Calculate the derivative of an expression\\n- \"integrate\": Find the indefinite integral of an expression\\n- \"limit\": Calculate the limit of an expression at a point\\n- \"series\": Generate a series expansion of an expression\\n- \"matrix\": Perform matrix operations', 'type': 'string'}, 'precision': {'default': None, 'description': 'Number of decimal places for the result (default: 10).\\nHigher values provide more precise output but may impact performance.', 'type': 'integer'}, 'scientific': {'default': None, 'description': 'Whether to use scientific notation for numbers (default: False).\\nWhen True, formats large and small numbers using scientific notation.', 'type': 'boolean'}, 'force_numeric': {'default': None, 'description': 'Force numeric evaluation of symbolic expressions (default: False).\\nWhen True, tries to convert symbolic results to numeric values.', 'type': 'boolean'}, 'variables': {'default': None, 'description': 'Optional dictionary of variable names and their values to substitute\\nin the expression, e.g., {\"a\": 1, \"b\": 2}.', 'type': 'object'}, 'wrt': {'default': None, 'description': 'Variable to differentiate or integrate with respect to (required for\\n\"derive\" and \"integrate\" modes).', 'type': 'string'}, 'point': {'default': None, 'description': 'Point at which to evaluate a limit (required for \"limit\" mode).\\nUse \"oo\" for infinity.', 'type': 'string'}, 'order': {'default': None, 'description': 'Order of derivative or series expansion (optional for \"derive\" and\\n\"series\" modes, default is 1 for derivatives and 5 for series).', 'type': 'integer'}}, 'required': ['expression'], 'type': 'object'}}}}, {'toolSpec': {'name': 'weather', 'description': 'Get weather', 'inputSchema': {'json': {'properties': {}, 'type': 'object', 'required': []}}}}, {'toolSpec': {'name': 'get_time', 'description': 'Get current time', 'inputSchema': {'json': {'properties': {}, 'type': 'object', 'required': []}}}}], 'toolChoice': {'auto': {}}}, 'event_loop_parent_cycle_id': UUID('a69b0c68-2a06-4bc2-878a-acf340d45236')}\n",
      "data: {\"type\": \"content\", \"content\": \" \\ud654\\ucc3d\\ud55c\"}\n",
      "\n",
      "\n",
      "{'event': {'contentBlockDelta': {'delta': {'text': ' 하'}, 'contentBlockIndex': 0}}}\n",
      " 하{'data': ' 하', 'delta': {'text': ' 하'}, 'agent': <strands.agent.agent.Agent object at 0x7dbc1fb80440>, 'event_loop_cycle_id': UUID('22999c0a-031b-48d5-ad9f-8eeb3339f474'), 'request_state': {}, 'event_loop_cycle_trace': <strands.telemetry.metrics.Trace object at 0x7dbc1fa44680>, 'event_loop_cycle_span': NonRecordingSpan(SpanContext(trace_id=0x00000000000000000000000000000000, span_id=0x0000000000000000, trace_flags=0x00, trace_state=[], is_remote=False)), 'model': <strands.models.bedrock.BedrockModel object at 0x7dbc3375f620>, 'messages': [{'role': 'user', 'content': [{'text': '날씨 어때'}]}, {'role': 'assistant', 'content': [{'text': '날씨 정보를 확인해 드리겠습니다.'}, {'toolUse': {'toolUseId': 'tooluse_wRd_0r8RTyKUa25Lvv4EEg', 'name': 'weather', 'input': {}}}]}, {'role': 'user', 'content': [{'toolResult': {'toolUseId': 'tooluse_wRd_0r8RTyKUa25Lvv4EEg', 'status': 'success', 'content': [{'text': 'sunny'}]}}]}, {'role': 'assistant', 'content': [{'text': '현재 날씨는 맑음(sunny)입니다. 오늘은 날씨가 좋아 보이네요!'}]}, {'role': 'user', 'content': [{'text': '날씨 어때'}]}, {'role': 'user', 'content': [{'text': '날씨 어때'}]}, {'role': 'assistant', 'content': [{'text': '현재 날씨 정보를 확인해 드리겠습니다.'}, {'toolUse': {'toolUseId': 'tooluse_u29QYBmjQ7CmWmn8rKQmlg', 'name': 'weather', 'input': {}}}]}, {'role': 'user', 'content': [{'toolResult': {'toolUseId': 'tooluse_u29QYBmjQ7CmWmn8rKQmlg', 'status': 'success', 'content': [{'text': 'sunny'}]}}]}, {'role': 'assistant', 'content': [{'text': '현재 날씨는 맑음(sunny)입니다. 오늘은 화창한 날씨를 즐기기 좋은 날이네요!'}]}, {'role': 'user', 'content': [{'text': '날씨 어때'}]}, {'role': 'assistant', 'content': [{'text': '현재 날씨 정보를 확인해 드리겠습니다.'}, {'toolUse': {'toolUseId': 'tooluse_24XEy-KIRuWQe6hMlTymXg', 'name': 'weather', 'input': {}}}]}, {'role': 'user', 'content': [{'toolResult': {'toolUseId': 'tooluse_24XEy-KIRuWQe6hMlTymXg', 'status': 'success', 'content': [{'text': 'sunny'}]}}]}], 'system_prompt': \"You're a helpful assistant. You can do simple math calculations, \\n    tell the weather, and provide the current time.\", 'tool_config': {'tools': [{'toolSpec': {'name': 'calculator', 'description': 'Calculator powered by SymPy for comprehensive mathematical operations.\\n\\nThis tool provides advanced mathematical functionality through multiple operation modes,\\nincluding expression evaluation, equation solving, calculus operations (derivatives, integrals),\\nlimits, series expansions, and matrix operations. Results are formatted with appropriate\\nprecision and can be displayed in scientific notation when needed.\\n\\nHow It Works:\\n------------\\n1. The function parses the mathematical expression using SymPy\\'s parser\\n2. Based on the selected mode, it routes the expression to the appropriate handler\\n3. Variables and constants are substituted with their values when provided\\n4. The expression is evaluated symbolically and/or numerically as appropriate\\n5. Results are formatted based on precision preferences and value magnitude\\n6. Rich output is generated with operation details and formatted results\\n\\nOperation Modes:\\n--------------\\n- evaluate: Calculate the value of a mathematical expression\\n- solve: Find solutions to an equation or system of equations\\n- derive: Calculate derivatives of an expression\\n- integrate: Find the indefinite integral of an expression\\n- limit: Evaluate the limit of an expression at a point\\n- series: Generate series expansion of an expression\\n- matrix: Perform matrix operations\\n\\nCommon Usage Scenarios:\\n---------------------\\n- Basic calculations: Evaluating arithmetic expressions\\n- Equation solving: Finding roots of polynomials or systems of equations\\n- Calculus: Computing derivatives and integrals for analysis\\n- Engineering analysis: Working with scientific notations and constants\\n- Mathematics education: Visualizing step-by-step solutions\\n- Data science: Matrix operations and statistical calculations\\n\\nArgs:\\n    expression: The mathematical expression to evaluate, such as \"2 + 2 * 3\",\\n        \"x**2 + 2*x + 1\", or \"sin(pi/2)\". For matrix operations, use array\\n        notation like \"[[1, 2], [3, 4]]\".\\n    mode: The calculation mode to use. Options are:\\n        - \"evaluate\": Compute the value of the expression (default)\\n        - \"solve\": Solve an equation or system of equations\\n        - \"derive\": Calculate the derivative of an expression\\n        - \"integrate\": Find the indefinite integral of an expression\\n        - \"limit\": Calculate the limit of an expression at a point\\n        - \"series\": Generate a series expansion of an expression\\n        - \"matrix\": Perform matrix operations\\n    precision: Number of decimal places for the result (default: 10).\\n        Higher values provide more precise output but may impact performance.\\n    scientific: Whether to use scientific notation for numbers (default: False).\\n        When True, formats large and small numbers using scientific notation.\\n    force_numeric: Force numeric evaluation of symbolic expressions (default: False).\\n        When True, tries to convert symbolic results to numeric values.\\n    variables: Optional dictionary of variable names and their values to substitute\\n        in the expression, e.g., {\"a\": 1, \"b\": 2}.\\n    wrt: Variable to differentiate or integrate with respect to (required for\\n        \"derive\" and \"integrate\" modes).\\n    point: Point at which to evaluate a limit (required for \"limit\" mode).\\n        Use \"oo\" for infinity.\\n    order: Order of derivative or series expansion (optional for \"derive\" and\\n        \"series\" modes, default is 1 for derivatives and 5 for series).\\n\\nReturns:\\n    Dict containing status and response content in the format:\\n    {\\n        \"status\": \"success|error\",\\n        \"content\": [{\"text\": \"Result: <calculated_result>\"}]\\n    }\\n\\n    Success case: Returns the calculation result with appropriate formatting\\n    Error case: Returns information about what went wrong during calculation\\n\\nNotes:\\n    - For equation solving, set the expression equal to zero implicitly (x**2 + 1 means x**2 + 1 = 0)\\n    - Use \\'pi\\' and \\'e\\' for mathematical constants\\n    - The \\'wrt\\' parameter is required for differentiation and integration\\n    - Matrix expressions use Python-like syntax: [[1, 2], [3, 4]]\\n    - Precision control impacts display only, internal calculations use higher precision\\n    - Symbolic results are returned when possible unless force_numeric=True', 'inputSchema': {'json': {'properties': {'expression': {'description': 'The mathematical expression to evaluate, such as \"2 + 2 * 3\",\\n\"x**2 + 2*x + 1\", or \"sin(pi/2)\". For matrix operations, use array\\nnotation like \"[[1, 2], [3, 4]]\".', 'type': 'string'}, 'mode': {'default': None, 'description': 'The calculation mode to use. Options are:\\n- \"evaluate\": Compute the value of the expression (default)\\n- \"solve\": Solve an equation or system of equations\\n- \"derive\": Calculate the derivative of an expression\\n- \"integrate\": Find the indefinite integral of an expression\\n- \"limit\": Calculate the limit of an expression at a point\\n- \"series\": Generate a series expansion of an expression\\n- \"matrix\": Perform matrix operations', 'type': 'string'}, 'precision': {'default': None, 'description': 'Number of decimal places for the result (default: 10).\\nHigher values provide more precise output but may impact performance.', 'type': 'integer'}, 'scientific': {'default': None, 'description': 'Whether to use scientific notation for numbers (default: False).\\nWhen True, formats large and small numbers using scientific notation.', 'type': 'boolean'}, 'force_numeric': {'default': None, 'description': 'Force numeric evaluation of symbolic expressions (default: False).\\nWhen True, tries to convert symbolic results to numeric values.', 'type': 'boolean'}, 'variables': {'default': None, 'description': 'Optional dictionary of variable names and their values to substitute\\nin the expression, e.g., {\"a\": 1, \"b\": 2}.', 'type': 'object'}, 'wrt': {'default': None, 'description': 'Variable to differentiate or integrate with respect to (required for\\n\"derive\" and \"integrate\" modes).', 'type': 'string'}, 'point': {'default': None, 'description': 'Point at which to evaluate a limit (required for \"limit\" mode).\\nUse \"oo\" for infinity.', 'type': 'string'}, 'order': {'default': None, 'description': 'Order of derivative or series expansion (optional for \"derive\" and\\n\"series\" modes, default is 1 for derivatives and 5 for series).', 'type': 'integer'}}, 'required': ['expression'], 'type': 'object'}}}}, {'toolSpec': {'name': 'weather', 'description': 'Get weather', 'inputSchema': {'json': {'properties': {}, 'type': 'object', 'required': []}}}}, {'toolSpec': {'name': 'get_time', 'description': 'Get current time', 'inputSchema': {'json': {'properties': {}, 'type': 'object', 'required': []}}}}], 'toolChoice': {'auto': {}}}, 'event_loop_parent_cycle_id': UUID('a69b0c68-2a06-4bc2-878a-acf340d45236')}\n",
      "data: {\"type\": \"content\", \"content\": \" \\ud558\"}\n",
      "\n",
      "\n",
      "{'event': {'contentBlockDelta': {'delta': {'text': '루가 될'}, 'contentBlockIndex': 0}}}\n",
      "루가 될{'data': '루가 될', 'delta': {'text': '루가 될'}, 'agent': <strands.agent.agent.Agent object at 0x7dbc1fb80440>, 'event_loop_cycle_id': UUID('22999c0a-031b-48d5-ad9f-8eeb3339f474'), 'request_state': {}, 'event_loop_cycle_trace': <strands.telemetry.metrics.Trace object at 0x7dbc1fa44680>, 'event_loop_cycle_span': NonRecordingSpan(SpanContext(trace_id=0x00000000000000000000000000000000, span_id=0x0000000000000000, trace_flags=0x00, trace_state=[], is_remote=False)), 'model': <strands.models.bedrock.BedrockModel object at 0x7dbc3375f620>, 'messages': [{'role': 'user', 'content': [{'text': '날씨 어때'}]}, {'role': 'assistant', 'content': [{'text': '날씨 정보를 확인해 드리겠습니다.'}, {'toolUse': {'toolUseId': 'tooluse_wRd_0r8RTyKUa25Lvv4EEg', 'name': 'weather', 'input': {}}}]}, {'role': 'user', 'content': [{'toolResult': {'toolUseId': 'tooluse_wRd_0r8RTyKUa25Lvv4EEg', 'status': 'success', 'content': [{'text': 'sunny'}]}}]}, {'role': 'assistant', 'content': [{'text': '현재 날씨는 맑음(sunny)입니다. 오늘은 날씨가 좋아 보이네요!'}]}, {'role': 'user', 'content': [{'text': '날씨 어때'}]}, {'role': 'user', 'content': [{'text': '날씨 어때'}]}, {'role': 'assistant', 'content': [{'text': '현재 날씨 정보를 확인해 드리겠습니다.'}, {'toolUse': {'toolUseId': 'tooluse_u29QYBmjQ7CmWmn8rKQmlg', 'name': 'weather', 'input': {}}}]}, {'role': 'user', 'content': [{'toolResult': {'toolUseId': 'tooluse_u29QYBmjQ7CmWmn8rKQmlg', 'status': 'success', 'content': [{'text': 'sunny'}]}}]}, {'role': 'assistant', 'content': [{'text': '현재 날씨는 맑음(sunny)입니다. 오늘은 화창한 날씨를 즐기기 좋은 날이네요!'}]}, {'role': 'user', 'content': [{'text': '날씨 어때'}]}, {'role': 'assistant', 'content': [{'text': '현재 날씨 정보를 확인해 드리겠습니다.'}, {'toolUse': {'toolUseId': 'tooluse_24XEy-KIRuWQe6hMlTymXg', 'name': 'weather', 'input': {}}}]}, {'role': 'user', 'content': [{'toolResult': {'toolUseId': 'tooluse_24XEy-KIRuWQe6hMlTymXg', 'status': 'success', 'content': [{'text': 'sunny'}]}}]}], 'system_prompt': \"You're a helpful assistant. You can do simple math calculations, \\n    tell the weather, and provide the current time.\", 'tool_config': {'tools': [{'toolSpec': {'name': 'calculator', 'description': 'Calculator powered by SymPy for comprehensive mathematical operations.\\n\\nThis tool provides advanced mathematical functionality through multiple operation modes,\\nincluding expression evaluation, equation solving, calculus operations (derivatives, integrals),\\nlimits, series expansions, and matrix operations. Results are formatted with appropriate\\nprecision and can be displayed in scientific notation when needed.\\n\\nHow It Works:\\n------------\\n1. The function parses the mathematical expression using SymPy\\'s parser\\n2. Based on the selected mode, it routes the expression to the appropriate handler\\n3. Variables and constants are substituted with their values when provided\\n4. The expression is evaluated symbolically and/or numerically as appropriate\\n5. Results are formatted based on precision preferences and value magnitude\\n6. Rich output is generated with operation details and formatted results\\n\\nOperation Modes:\\n--------------\\n- evaluate: Calculate the value of a mathematical expression\\n- solve: Find solutions to an equation or system of equations\\n- derive: Calculate derivatives of an expression\\n- integrate: Find the indefinite integral of an expression\\n- limit: Evaluate the limit of an expression at a point\\n- series: Generate series expansion of an expression\\n- matrix: Perform matrix operations\\n\\nCommon Usage Scenarios:\\n---------------------\\n- Basic calculations: Evaluating arithmetic expressions\\n- Equation solving: Finding roots of polynomials or systems of equations\\n- Calculus: Computing derivatives and integrals for analysis\\n- Engineering analysis: Working with scientific notations and constants\\n- Mathematics education: Visualizing step-by-step solutions\\n- Data science: Matrix operations and statistical calculations\\n\\nArgs:\\n    expression: The mathematical expression to evaluate, such as \"2 + 2 * 3\",\\n        \"x**2 + 2*x + 1\", or \"sin(pi/2)\". For matrix operations, use array\\n        notation like \"[[1, 2], [3, 4]]\".\\n    mode: The calculation mode to use. Options are:\\n        - \"evaluate\": Compute the value of the expression (default)\\n        - \"solve\": Solve an equation or system of equations\\n        - \"derive\": Calculate the derivative of an expression\\n        - \"integrate\": Find the indefinite integral of an expression\\n        - \"limit\": Calculate the limit of an expression at a point\\n        - \"series\": Generate a series expansion of an expression\\n        - \"matrix\": Perform matrix operations\\n    precision: Number of decimal places for the result (default: 10).\\n        Higher values provide more precise output but may impact performance.\\n    scientific: Whether to use scientific notation for numbers (default: False).\\n        When True, formats large and small numbers using scientific notation.\\n    force_numeric: Force numeric evaluation of symbolic expressions (default: False).\\n        When True, tries to convert symbolic results to numeric values.\\n    variables: Optional dictionary of variable names and their values to substitute\\n        in the expression, e.g., {\"a\": 1, \"b\": 2}.\\n    wrt: Variable to differentiate or integrate with respect to (required for\\n        \"derive\" and \"integrate\" modes).\\n    point: Point at which to evaluate a limit (required for \"limit\" mode).\\n        Use \"oo\" for infinity.\\n    order: Order of derivative or series expansion (optional for \"derive\" and\\n        \"series\" modes, default is 1 for derivatives and 5 for series).\\n\\nReturns:\\n    Dict containing status and response content in the format:\\n    {\\n        \"status\": \"success|error\",\\n        \"content\": [{\"text\": \"Result: <calculated_result>\"}]\\n    }\\n\\n    Success case: Returns the calculation result with appropriate formatting\\n    Error case: Returns information about what went wrong during calculation\\n\\nNotes:\\n    - For equation solving, set the expression equal to zero implicitly (x**2 + 1 means x**2 + 1 = 0)\\n    - Use \\'pi\\' and \\'e\\' for mathematical constants\\n    - The \\'wrt\\' parameter is required for differentiation and integration\\n    - Matrix expressions use Python-like syntax: [[1, 2], [3, 4]]\\n    - Precision control impacts display only, internal calculations use higher precision\\n    - Symbolic results are returned when possible unless force_numeric=True', 'inputSchema': {'json': {'properties': {'expression': {'description': 'The mathematical expression to evaluate, such as \"2 + 2 * 3\",\\n\"x**2 + 2*x + 1\", or \"sin(pi/2)\". For matrix operations, use array\\nnotation like \"[[1, 2], [3, 4]]\".', 'type': 'string'}, 'mode': {'default': None, 'description': 'The calculation mode to use. Options are:\\n- \"evaluate\": Compute the value of the expression (default)\\n- \"solve\": Solve an equation or system of equations\\n- \"derive\": Calculate the derivative of an expression\\n- \"integrate\": Find the indefinite integral of an expression\\n- \"limit\": Calculate the limit of an expression at a point\\n- \"series\": Generate a series expansion of an expression\\n- \"matrix\": Perform matrix operations', 'type': 'string'}, 'precision': {'default': None, 'description': 'Number of decimal places for the result (default: 10).\\nHigher values provide more precise output but may impact performance.', 'type': 'integer'}, 'scientific': {'default': None, 'description': 'Whether to use scientific notation for numbers (default: False).\\nWhen True, formats large and small numbers using scientific notation.', 'type': 'boolean'}, 'force_numeric': {'default': None, 'description': 'Force numeric evaluation of symbolic expressions (default: False).\\nWhen True, tries to convert symbolic results to numeric values.', 'type': 'boolean'}, 'variables': {'default': None, 'description': 'Optional dictionary of variable names and their values to substitute\\nin the expression, e.g., {\"a\": 1, \"b\": 2}.', 'type': 'object'}, 'wrt': {'default': None, 'description': 'Variable to differentiate or integrate with respect to (required for\\n\"derive\" and \"integrate\" modes).', 'type': 'string'}, 'point': {'default': None, 'description': 'Point at which to evaluate a limit (required for \"limit\" mode).\\nUse \"oo\" for infinity.', 'type': 'string'}, 'order': {'default': None, 'description': 'Order of derivative or series expansion (optional for \"derive\" and\\n\"series\" modes, default is 1 for derivatives and 5 for series).', 'type': 'integer'}}, 'required': ['expression'], 'type': 'object'}}}}, {'toolSpec': {'name': 'weather', 'description': 'Get weather', 'inputSchema': {'json': {'properties': {}, 'type': 'object', 'required': []}}}}, {'toolSpec': {'name': 'get_time', 'description': 'Get current time', 'inputSchema': {'json': {'properties': {}, 'type': 'object', 'required': []}}}}], 'toolChoice': {'auto': {}}}, 'event_loop_parent_cycle_id': UUID('a69b0c68-2a06-4bc2-878a-acf340d45236')}\n",
      "data: {\"type\": \"content\", \"content\": \"\\ub8e8\\uac00 \\ub420\"}\n",
      "\n",
      "\n",
      "{'event': {'contentBlockDelta': {'delta': {'text': ' 것 '}, 'contentBlockIndex': 0}}}\n",
      " 것 {'data': ' 것 ', 'delta': {'text': ' 것 '}, 'agent': <strands.agent.agent.Agent object at 0x7dbc1fb80440>, 'event_loop_cycle_id': UUID('22999c0a-031b-48d5-ad9f-8eeb3339f474'), 'request_state': {}, 'event_loop_cycle_trace': <strands.telemetry.metrics.Trace object at 0x7dbc1fa44680>, 'event_loop_cycle_span': NonRecordingSpan(SpanContext(trace_id=0x00000000000000000000000000000000, span_id=0x0000000000000000, trace_flags=0x00, trace_state=[], is_remote=False)), 'model': <strands.models.bedrock.BedrockModel object at 0x7dbc3375f620>, 'messages': [{'role': 'user', 'content': [{'text': '날씨 어때'}]}, {'role': 'assistant', 'content': [{'text': '날씨 정보를 확인해 드리겠습니다.'}, {'toolUse': {'toolUseId': 'tooluse_wRd_0r8RTyKUa25Lvv4EEg', 'name': 'weather', 'input': {}}}]}, {'role': 'user', 'content': [{'toolResult': {'toolUseId': 'tooluse_wRd_0r8RTyKUa25Lvv4EEg', 'status': 'success', 'content': [{'text': 'sunny'}]}}]}, {'role': 'assistant', 'content': [{'text': '현재 날씨는 맑음(sunny)입니다. 오늘은 날씨가 좋아 보이네요!'}]}, {'role': 'user', 'content': [{'text': '날씨 어때'}]}, {'role': 'user', 'content': [{'text': '날씨 어때'}]}, {'role': 'assistant', 'content': [{'text': '현재 날씨 정보를 확인해 드리겠습니다.'}, {'toolUse': {'toolUseId': 'tooluse_u29QYBmjQ7CmWmn8rKQmlg', 'name': 'weather', 'input': {}}}]}, {'role': 'user', 'content': [{'toolResult': {'toolUseId': 'tooluse_u29QYBmjQ7CmWmn8rKQmlg', 'status': 'success', 'content': [{'text': 'sunny'}]}}]}, {'role': 'assistant', 'content': [{'text': '현재 날씨는 맑음(sunny)입니다. 오늘은 화창한 날씨를 즐기기 좋은 날이네요!'}]}, {'role': 'user', 'content': [{'text': '날씨 어때'}]}, {'role': 'assistant', 'content': [{'text': '현재 날씨 정보를 확인해 드리겠습니다.'}, {'toolUse': {'toolUseId': 'tooluse_24XEy-KIRuWQe6hMlTymXg', 'name': 'weather', 'input': {}}}]}, {'role': 'user', 'content': [{'toolResult': {'toolUseId': 'tooluse_24XEy-KIRuWQe6hMlTymXg', 'status': 'success', 'content': [{'text': 'sunny'}]}}]}], 'system_prompt': \"You're a helpful assistant. You can do simple math calculations, \\n    tell the weather, and provide the current time.\", 'tool_config': {'tools': [{'toolSpec': {'name': 'calculator', 'description': 'Calculator powered by SymPy for comprehensive mathematical operations.\\n\\nThis tool provides advanced mathematical functionality through multiple operation modes,\\nincluding expression evaluation, equation solving, calculus operations (derivatives, integrals),\\nlimits, series expansions, and matrix operations. Results are formatted with appropriate\\nprecision and can be displayed in scientific notation when needed.\\n\\nHow It Works:\\n------------\\n1. The function parses the mathematical expression using SymPy\\'s parser\\n2. Based on the selected mode, it routes the expression to the appropriate handler\\n3. Variables and constants are substituted with their values when provided\\n4. The expression is evaluated symbolically and/or numerically as appropriate\\n5. Results are formatted based on precision preferences and value magnitude\\n6. Rich output is generated with operation details and formatted results\\n\\nOperation Modes:\\n--------------\\n- evaluate: Calculate the value of a mathematical expression\\n- solve: Find solutions to an equation or system of equations\\n- derive: Calculate derivatives of an expression\\n- integrate: Find the indefinite integral of an expression\\n- limit: Evaluate the limit of an expression at a point\\n- series: Generate series expansion of an expression\\n- matrix: Perform matrix operations\\n\\nCommon Usage Scenarios:\\n---------------------\\n- Basic calculations: Evaluating arithmetic expressions\\n- Equation solving: Finding roots of polynomials or systems of equations\\n- Calculus: Computing derivatives and integrals for analysis\\n- Engineering analysis: Working with scientific notations and constants\\n- Mathematics education: Visualizing step-by-step solutions\\n- Data science: Matrix operations and statistical calculations\\n\\nArgs:\\n    expression: The mathematical expression to evaluate, such as \"2 + 2 * 3\",\\n        \"x**2 + 2*x + 1\", or \"sin(pi/2)\". For matrix operations, use array\\n        notation like \"[[1, 2], [3, 4]]\".\\n    mode: The calculation mode to use. Options are:\\n        - \"evaluate\": Compute the value of the expression (default)\\n        - \"solve\": Solve an equation or system of equations\\n        - \"derive\": Calculate the derivative of an expression\\n        - \"integrate\": Find the indefinite integral of an expression\\n        - \"limit\": Calculate the limit of an expression at a point\\n        - \"series\": Generate a series expansion of an expression\\n        - \"matrix\": Perform matrix operations\\n    precision: Number of decimal places for the result (default: 10).\\n        Higher values provide more precise output but may impact performance.\\n    scientific: Whether to use scientific notation for numbers (default: False).\\n        When True, formats large and small numbers using scientific notation.\\n    force_numeric: Force numeric evaluation of symbolic expressions (default: False).\\n        When True, tries to convert symbolic results to numeric values.\\n    variables: Optional dictionary of variable names and their values to substitute\\n        in the expression, e.g., {\"a\": 1, \"b\": 2}.\\n    wrt: Variable to differentiate or integrate with respect to (required for\\n        \"derive\" and \"integrate\" modes).\\n    point: Point at which to evaluate a limit (required for \"limit\" mode).\\n        Use \"oo\" for infinity.\\n    order: Order of derivative or series expansion (optional for \"derive\" and\\n        \"series\" modes, default is 1 for derivatives and 5 for series).\\n\\nReturns:\\n    Dict containing status and response content in the format:\\n    {\\n        \"status\": \"success|error\",\\n        \"content\": [{\"text\": \"Result: <calculated_result>\"}]\\n    }\\n\\n    Success case: Returns the calculation result with appropriate formatting\\n    Error case: Returns information about what went wrong during calculation\\n\\nNotes:\\n    - For equation solving, set the expression equal to zero implicitly (x**2 + 1 means x**2 + 1 = 0)\\n    - Use \\'pi\\' and \\'e\\' for mathematical constants\\n    - The \\'wrt\\' parameter is required for differentiation and integration\\n    - Matrix expressions use Python-like syntax: [[1, 2], [3, 4]]\\n    - Precision control impacts display only, internal calculations use higher precision\\n    - Symbolic results are returned when possible unless force_numeric=True', 'inputSchema': {'json': {'properties': {'expression': {'description': 'The mathematical expression to evaluate, such as \"2 + 2 * 3\",\\n\"x**2 + 2*x + 1\", or \"sin(pi/2)\". For matrix operations, use array\\nnotation like \"[[1, 2], [3, 4]]\".', 'type': 'string'}, 'mode': {'default': None, 'description': 'The calculation mode to use. Options are:\\n- \"evaluate\": Compute the value of the expression (default)\\n- \"solve\": Solve an equation or system of equations\\n- \"derive\": Calculate the derivative of an expression\\n- \"integrate\": Find the indefinite integral of an expression\\n- \"limit\": Calculate the limit of an expression at a point\\n- \"series\": Generate a series expansion of an expression\\n- \"matrix\": Perform matrix operations', 'type': 'string'}, 'precision': {'default': None, 'description': 'Number of decimal places for the result (default: 10).\\nHigher values provide more precise output but may impact performance.', 'type': 'integer'}, 'scientific': {'default': None, 'description': 'Whether to use scientific notation for numbers (default: False).\\nWhen True, formats large and small numbers using scientific notation.', 'type': 'boolean'}, 'force_numeric': {'default': None, 'description': 'Force numeric evaluation of symbolic expressions (default: False).\\nWhen True, tries to convert symbolic results to numeric values.', 'type': 'boolean'}, 'variables': {'default': None, 'description': 'Optional dictionary of variable names and their values to substitute\\nin the expression, e.g., {\"a\": 1, \"b\": 2}.', 'type': 'object'}, 'wrt': {'default': None, 'description': 'Variable to differentiate or integrate with respect to (required for\\n\"derive\" and \"integrate\" modes).', 'type': 'string'}, 'point': {'default': None, 'description': 'Point at which to evaluate a limit (required for \"limit\" mode).\\nUse \"oo\" for infinity.', 'type': 'string'}, 'order': {'default': None, 'description': 'Order of derivative or series expansion (optional for \"derive\" and\\n\"series\" modes, default is 1 for derivatives and 5 for series).', 'type': 'integer'}}, 'required': ['expression'], 'type': 'object'}}}}, {'toolSpec': {'name': 'weather', 'description': 'Get weather', 'inputSchema': {'json': {'properties': {}, 'type': 'object', 'required': []}}}}, {'toolSpec': {'name': 'get_time', 'description': 'Get current time', 'inputSchema': {'json': {'properties': {}, 'type': 'object', 'required': []}}}}], 'toolChoice': {'auto': {}}}, 'event_loop_parent_cycle_id': UUID('a69b0c68-2a06-4bc2-878a-acf340d45236')}\n",
      "data: {\"type\": \"content\", \"content\": \" \\uac83 \"}\n",
      "\n",
      "\n",
      "{'event': {'contentBlockDelta': {'delta': {'text': '같습'}, 'contentBlockIndex': 0}}}\n",
      "같습{'data': '같습', 'delta': {'text': '같습'}, 'agent': <strands.agent.agent.Agent object at 0x7dbc1fb80440>, 'event_loop_cycle_id': UUID('22999c0a-031b-48d5-ad9f-8eeb3339f474'), 'request_state': {}, 'event_loop_cycle_trace': <strands.telemetry.metrics.Trace object at 0x7dbc1fa44680>, 'event_loop_cycle_span': NonRecordingSpan(SpanContext(trace_id=0x00000000000000000000000000000000, span_id=0x0000000000000000, trace_flags=0x00, trace_state=[], is_remote=False)), 'model': <strands.models.bedrock.BedrockModel object at 0x7dbc3375f620>, 'messages': [{'role': 'user', 'content': [{'text': '날씨 어때'}]}, {'role': 'assistant', 'content': [{'text': '날씨 정보를 확인해 드리겠습니다.'}, {'toolUse': {'toolUseId': 'tooluse_wRd_0r8RTyKUa25Lvv4EEg', 'name': 'weather', 'input': {}}}]}, {'role': 'user', 'content': [{'toolResult': {'toolUseId': 'tooluse_wRd_0r8RTyKUa25Lvv4EEg', 'status': 'success', 'content': [{'text': 'sunny'}]}}]}, {'role': 'assistant', 'content': [{'text': '현재 날씨는 맑음(sunny)입니다. 오늘은 날씨가 좋아 보이네요!'}]}, {'role': 'user', 'content': [{'text': '날씨 어때'}]}, {'role': 'user', 'content': [{'text': '날씨 어때'}]}, {'role': 'assistant', 'content': [{'text': '현재 날씨 정보를 확인해 드리겠습니다.'}, {'toolUse': {'toolUseId': 'tooluse_u29QYBmjQ7CmWmn8rKQmlg', 'name': 'weather', 'input': {}}}]}, {'role': 'user', 'content': [{'toolResult': {'toolUseId': 'tooluse_u29QYBmjQ7CmWmn8rKQmlg', 'status': 'success', 'content': [{'text': 'sunny'}]}}]}, {'role': 'assistant', 'content': [{'text': '현재 날씨는 맑음(sunny)입니다. 오늘은 화창한 날씨를 즐기기 좋은 날이네요!'}]}, {'role': 'user', 'content': [{'text': '날씨 어때'}]}, {'role': 'assistant', 'content': [{'text': '현재 날씨 정보를 확인해 드리겠습니다.'}, {'toolUse': {'toolUseId': 'tooluse_24XEy-KIRuWQe6hMlTymXg', 'name': 'weather', 'input': {}}}]}, {'role': 'user', 'content': [{'toolResult': {'toolUseId': 'tooluse_24XEy-KIRuWQe6hMlTymXg', 'status': 'success', 'content': [{'text': 'sunny'}]}}]}], 'system_prompt': \"You're a helpful assistant. You can do simple math calculations, \\n    tell the weather, and provide the current time.\", 'tool_config': {'tools': [{'toolSpec': {'name': 'calculator', 'description': 'Calculator powered by SymPy for comprehensive mathematical operations.\\n\\nThis tool provides advanced mathematical functionality through multiple operation modes,\\nincluding expression evaluation, equation solving, calculus operations (derivatives, integrals),\\nlimits, series expansions, and matrix operations. Results are formatted with appropriate\\nprecision and can be displayed in scientific notation when needed.\\n\\nHow It Works:\\n------------\\n1. The function parses the mathematical expression using SymPy\\'s parser\\n2. Based on the selected mode, it routes the expression to the appropriate handler\\n3. Variables and constants are substituted with their values when provided\\n4. The expression is evaluated symbolically and/or numerically as appropriate\\n5. Results are formatted based on precision preferences and value magnitude\\n6. Rich output is generated with operation details and formatted results\\n\\nOperation Modes:\\n--------------\\n- evaluate: Calculate the value of a mathematical expression\\n- solve: Find solutions to an equation or system of equations\\n- derive: Calculate derivatives of an expression\\n- integrate: Find the indefinite integral of an expression\\n- limit: Evaluate the limit of an expression at a point\\n- series: Generate series expansion of an expression\\n- matrix: Perform matrix operations\\n\\nCommon Usage Scenarios:\\n---------------------\\n- Basic calculations: Evaluating arithmetic expressions\\n- Equation solving: Finding roots of polynomials or systems of equations\\n- Calculus: Computing derivatives and integrals for analysis\\n- Engineering analysis: Working with scientific notations and constants\\n- Mathematics education: Visualizing step-by-step solutions\\n- Data science: Matrix operations and statistical calculations\\n\\nArgs:\\n    expression: The mathematical expression to evaluate, such as \"2 + 2 * 3\",\\n        \"x**2 + 2*x + 1\", or \"sin(pi/2)\". For matrix operations, use array\\n        notation like \"[[1, 2], [3, 4]]\".\\n    mode: The calculation mode to use. Options are:\\n        - \"evaluate\": Compute the value of the expression (default)\\n        - \"solve\": Solve an equation or system of equations\\n        - \"derive\": Calculate the derivative of an expression\\n        - \"integrate\": Find the indefinite integral of an expression\\n        - \"limit\": Calculate the limit of an expression at a point\\n        - \"series\": Generate a series expansion of an expression\\n        - \"matrix\": Perform matrix operations\\n    precision: Number of decimal places for the result (default: 10).\\n        Higher values provide more precise output but may impact performance.\\n    scientific: Whether to use scientific notation for numbers (default: False).\\n        When True, formats large and small numbers using scientific notation.\\n    force_numeric: Force numeric evaluation of symbolic expressions (default: False).\\n        When True, tries to convert symbolic results to numeric values.\\n    variables: Optional dictionary of variable names and their values to substitute\\n        in the expression, e.g., {\"a\": 1, \"b\": 2}.\\n    wrt: Variable to differentiate or integrate with respect to (required for\\n        \"derive\" and \"integrate\" modes).\\n    point: Point at which to evaluate a limit (required for \"limit\" mode).\\n        Use \"oo\" for infinity.\\n    order: Order of derivative or series expansion (optional for \"derive\" and\\n        \"series\" modes, default is 1 for derivatives and 5 for series).\\n\\nReturns:\\n    Dict containing status and response content in the format:\\n    {\\n        \"status\": \"success|error\",\\n        \"content\": [{\"text\": \"Result: <calculated_result>\"}]\\n    }\\n\\n    Success case: Returns the calculation result with appropriate formatting\\n    Error case: Returns information about what went wrong during calculation\\n\\nNotes:\\n    - For equation solving, set the expression equal to zero implicitly (x**2 + 1 means x**2 + 1 = 0)\\n    - Use \\'pi\\' and \\'e\\' for mathematical constants\\n    - The \\'wrt\\' parameter is required for differentiation and integration\\n    - Matrix expressions use Python-like syntax: [[1, 2], [3, 4]]\\n    - Precision control impacts display only, internal calculations use higher precision\\n    - Symbolic results are returned when possible unless force_numeric=True', 'inputSchema': {'json': {'properties': {'expression': {'description': 'The mathematical expression to evaluate, such as \"2 + 2 * 3\",\\n\"x**2 + 2*x + 1\", or \"sin(pi/2)\". For matrix operations, use array\\nnotation like \"[[1, 2], [3, 4]]\".', 'type': 'string'}, 'mode': {'default': None, 'description': 'The calculation mode to use. Options are:\\n- \"evaluate\": Compute the value of the expression (default)\\n- \"solve\": Solve an equation or system of equations\\n- \"derive\": Calculate the derivative of an expression\\n- \"integrate\": Find the indefinite integral of an expression\\n- \"limit\": Calculate the limit of an expression at a point\\n- \"series\": Generate a series expansion of an expression\\n- \"matrix\": Perform matrix operations', 'type': 'string'}, 'precision': {'default': None, 'description': 'Number of decimal places for the result (default: 10).\\nHigher values provide more precise output but may impact performance.', 'type': 'integer'}, 'scientific': {'default': None, 'description': 'Whether to use scientific notation for numbers (default: False).\\nWhen True, formats large and small numbers using scientific notation.', 'type': 'boolean'}, 'force_numeric': {'default': None, 'description': 'Force numeric evaluation of symbolic expressions (default: False).\\nWhen True, tries to convert symbolic results to numeric values.', 'type': 'boolean'}, 'variables': {'default': None, 'description': 'Optional dictionary of variable names and their values to substitute\\nin the expression, e.g., {\"a\": 1, \"b\": 2}.', 'type': 'object'}, 'wrt': {'default': None, 'description': 'Variable to differentiate or integrate with respect to (required for\\n\"derive\" and \"integrate\" modes).', 'type': 'string'}, 'point': {'default': None, 'description': 'Point at which to evaluate a limit (required for \"limit\" mode).\\nUse \"oo\" for infinity.', 'type': 'string'}, 'order': {'default': None, 'description': 'Order of derivative or series expansion (optional for \"derive\" and\\n\"series\" modes, default is 1 for derivatives and 5 for series).', 'type': 'integer'}}, 'required': ['expression'], 'type': 'object'}}}}, {'toolSpec': {'name': 'weather', 'description': 'Get weather', 'inputSchema': {'json': {'properties': {}, 'type': 'object', 'required': []}}}}, {'toolSpec': {'name': 'get_time', 'description': 'Get current time', 'inputSchema': {'json': {'properties': {}, 'type': 'object', 'required': []}}}}], 'toolChoice': {'auto': {}}}, 'event_loop_parent_cycle_id': UUID('a69b0c68-2a06-4bc2-878a-acf340d45236')}\n",
      "data: {\"type\": \"content\", \"content\": \"\\uac19\\uc2b5\"}\n",
      "\n",
      "\n",
      "{'event': {'contentBlockDelta': {'delta': {'text': '니다!'}, 'contentBlockIndex': 0}}}\n",
      "니다!{'data': '니다!', 'delta': {'text': '니다!'}, 'agent': <strands.agent.agent.Agent object at 0x7dbc1fb80440>, 'event_loop_cycle_id': UUID('22999c0a-031b-48d5-ad9f-8eeb3339f474'), 'request_state': {}, 'event_loop_cycle_trace': <strands.telemetry.metrics.Trace object at 0x7dbc1fa44680>, 'event_loop_cycle_span': NonRecordingSpan(SpanContext(trace_id=0x00000000000000000000000000000000, span_id=0x0000000000000000, trace_flags=0x00, trace_state=[], is_remote=False)), 'model': <strands.models.bedrock.BedrockModel object at 0x7dbc3375f620>, 'messages': [{'role': 'user', 'content': [{'text': '날씨 어때'}]}, {'role': 'assistant', 'content': [{'text': '날씨 정보를 확인해 드리겠습니다.'}, {'toolUse': {'toolUseId': 'tooluse_wRd_0r8RTyKUa25Lvv4EEg', 'name': 'weather', 'input': {}}}]}, {'role': 'user', 'content': [{'toolResult': {'toolUseId': 'tooluse_wRd_0r8RTyKUa25Lvv4EEg', 'status': 'success', 'content': [{'text': 'sunny'}]}}]}, {'role': 'assistant', 'content': [{'text': '현재 날씨는 맑음(sunny)입니다. 오늘은 날씨가 좋아 보이네요!'}]}, {'role': 'user', 'content': [{'text': '날씨 어때'}]}, {'role': 'user', 'content': [{'text': '날씨 어때'}]}, {'role': 'assistant', 'content': [{'text': '현재 날씨 정보를 확인해 드리겠습니다.'}, {'toolUse': {'toolUseId': 'tooluse_u29QYBmjQ7CmWmn8rKQmlg', 'name': 'weather', 'input': {}}}]}, {'role': 'user', 'content': [{'toolResult': {'toolUseId': 'tooluse_u29QYBmjQ7CmWmn8rKQmlg', 'status': 'success', 'content': [{'text': 'sunny'}]}}]}, {'role': 'assistant', 'content': [{'text': '현재 날씨는 맑음(sunny)입니다. 오늘은 화창한 날씨를 즐기기 좋은 날이네요!'}]}, {'role': 'user', 'content': [{'text': '날씨 어때'}]}, {'role': 'assistant', 'content': [{'text': '현재 날씨 정보를 확인해 드리겠습니다.'}, {'toolUse': {'toolUseId': 'tooluse_24XEy-KIRuWQe6hMlTymXg', 'name': 'weather', 'input': {}}}]}, {'role': 'user', 'content': [{'toolResult': {'toolUseId': 'tooluse_24XEy-KIRuWQe6hMlTymXg', 'status': 'success', 'content': [{'text': 'sunny'}]}}]}], 'system_prompt': \"You're a helpful assistant. You can do simple math calculations, \\n    tell the weather, and provide the current time.\", 'tool_config': {'tools': [{'toolSpec': {'name': 'calculator', 'description': 'Calculator powered by SymPy for comprehensive mathematical operations.\\n\\nThis tool provides advanced mathematical functionality through multiple operation modes,\\nincluding expression evaluation, equation solving, calculus operations (derivatives, integrals),\\nlimits, series expansions, and matrix operations. Results are formatted with appropriate\\nprecision and can be displayed in scientific notation when needed.\\n\\nHow It Works:\\n------------\\n1. The function parses the mathematical expression using SymPy\\'s parser\\n2. Based on the selected mode, it routes the expression to the appropriate handler\\n3. Variables and constants are substituted with their values when provided\\n4. The expression is evaluated symbolically and/or numerically as appropriate\\n5. Results are formatted based on precision preferences and value magnitude\\n6. Rich output is generated with operation details and formatted results\\n\\nOperation Modes:\\n--------------\\n- evaluate: Calculate the value of a mathematical expression\\n- solve: Find solutions to an equation or system of equations\\n- derive: Calculate derivatives of an expression\\n- integrate: Find the indefinite integral of an expression\\n- limit: Evaluate the limit of an expression at a point\\n- series: Generate series expansion of an expression\\n- matrix: Perform matrix operations\\n\\nCommon Usage Scenarios:\\n---------------------\\n- Basic calculations: Evaluating arithmetic expressions\\n- Equation solving: Finding roots of polynomials or systems of equations\\n- Calculus: Computing derivatives and integrals for analysis\\n- Engineering analysis: Working with scientific notations and constants\\n- Mathematics education: Visualizing step-by-step solutions\\n- Data science: Matrix operations and statistical calculations\\n\\nArgs:\\n    expression: The mathematical expression to evaluate, such as \"2 + 2 * 3\",\\n        \"x**2 + 2*x + 1\", or \"sin(pi/2)\". For matrix operations, use array\\n        notation like \"[[1, 2], [3, 4]]\".\\n    mode: The calculation mode to use. Options are:\\n        - \"evaluate\": Compute the value of the expression (default)\\n        - \"solve\": Solve an equation or system of equations\\n        - \"derive\": Calculate the derivative of an expression\\n        - \"integrate\": Find the indefinite integral of an expression\\n        - \"limit\": Calculate the limit of an expression at a point\\n        - \"series\": Generate a series expansion of an expression\\n        - \"matrix\": Perform matrix operations\\n    precision: Number of decimal places for the result (default: 10).\\n        Higher values provide more precise output but may impact performance.\\n    scientific: Whether to use scientific notation for numbers (default: False).\\n        When True, formats large and small numbers using scientific notation.\\n    force_numeric: Force numeric evaluation of symbolic expressions (default: False).\\n        When True, tries to convert symbolic results to numeric values.\\n    variables: Optional dictionary of variable names and their values to substitute\\n        in the expression, e.g., {\"a\": 1, \"b\": 2}.\\n    wrt: Variable to differentiate or integrate with respect to (required for\\n        \"derive\" and \"integrate\" modes).\\n    point: Point at which to evaluate a limit (required for \"limit\" mode).\\n        Use \"oo\" for infinity.\\n    order: Order of derivative or series expansion (optional for \"derive\" and\\n        \"series\" modes, default is 1 for derivatives and 5 for series).\\n\\nReturns:\\n    Dict containing status and response content in the format:\\n    {\\n        \"status\": \"success|error\",\\n        \"content\": [{\"text\": \"Result: <calculated_result>\"}]\\n    }\\n\\n    Success case: Returns the calculation result with appropriate formatting\\n    Error case: Returns information about what went wrong during calculation\\n\\nNotes:\\n    - For equation solving, set the expression equal to zero implicitly (x**2 + 1 means x**2 + 1 = 0)\\n    - Use \\'pi\\' and \\'e\\' for mathematical constants\\n    - The \\'wrt\\' parameter is required for differentiation and integration\\n    - Matrix expressions use Python-like syntax: [[1, 2], [3, 4]]\\n    - Precision control impacts display only, internal calculations use higher precision\\n    - Symbolic results are returned when possible unless force_numeric=True', 'inputSchema': {'json': {'properties': {'expression': {'description': 'The mathematical expression to evaluate, such as \"2 + 2 * 3\",\\n\"x**2 + 2*x + 1\", or \"sin(pi/2)\". For matrix operations, use array\\nnotation like \"[[1, 2], [3, 4]]\".', 'type': 'string'}, 'mode': {'default': None, 'description': 'The calculation mode to use. Options are:\\n- \"evaluate\": Compute the value of the expression (default)\\n- \"solve\": Solve an equation or system of equations\\n- \"derive\": Calculate the derivative of an expression\\n- \"integrate\": Find the indefinite integral of an expression\\n- \"limit\": Calculate the limit of an expression at a point\\n- \"series\": Generate a series expansion of an expression\\n- \"matrix\": Perform matrix operations', 'type': 'string'}, 'precision': {'default': None, 'description': 'Number of decimal places for the result (default: 10).\\nHigher values provide more precise output but may impact performance.', 'type': 'integer'}, 'scientific': {'default': None, 'description': 'Whether to use scientific notation for numbers (default: False).\\nWhen True, formats large and small numbers using scientific notation.', 'type': 'boolean'}, 'force_numeric': {'default': None, 'description': 'Force numeric evaluation of symbolic expressions (default: False).\\nWhen True, tries to convert symbolic results to numeric values.', 'type': 'boolean'}, 'variables': {'default': None, 'description': 'Optional dictionary of variable names and their values to substitute\\nin the expression, e.g., {\"a\": 1, \"b\": 2}.', 'type': 'object'}, 'wrt': {'default': None, 'description': 'Variable to differentiate or integrate with respect to (required for\\n\"derive\" and \"integrate\" modes).', 'type': 'string'}, 'point': {'default': None, 'description': 'Point at which to evaluate a limit (required for \"limit\" mode).\\nUse \"oo\" for infinity.', 'type': 'string'}, 'order': {'default': None, 'description': 'Order of derivative or series expansion (optional for \"derive\" and\\n\"series\" modes, default is 1 for derivatives and 5 for series).', 'type': 'integer'}}, 'required': ['expression'], 'type': 'object'}}}}, {'toolSpec': {'name': 'weather', 'description': 'Get weather', 'inputSchema': {'json': {'properties': {}, 'type': 'object', 'required': []}}}}, {'toolSpec': {'name': 'get_time', 'description': 'Get current time', 'inputSchema': {'json': {'properties': {}, 'type': 'object', 'required': []}}}}], 'toolChoice': {'auto': {}}}, 'event_loop_parent_cycle_id': UUID('a69b0c68-2a06-4bc2-878a-acf340d45236')}\n",
      "data: {\"type\": \"content\", \"content\": \"\\ub2c8\\ub2e4!\"}\n",
      "\n",
      "\n",
      "{'event': {'contentBlockStop': {'contentBlockIndex': 0}}}\n",
      "{'event': {'messageStop': {'stopReason': 'end_turn'}}}\n",
      "{'event': {'metadata': {'usage': {'inputTokens': 2384, 'outputTokens': 45, 'totalTokens': 2429}, 'metrics': {'latencyMs': 1624}}}}\n",
      "{'message': {'role': 'assistant', 'content': [{'text': '현재 날씨는 맑음(sunny)입니다. 오늘은 화창한 하루가 될 것 같습니다!'}]}}\n",
      "{'result': AgentResult(stop_reason='end_turn', message={'role': 'assistant', 'content': [{'text': '현재 날씨는 맑음(sunny)입니다. 오늘은 화창한 하루가 될 것 같습니다!'}]}, metrics=EventLoopMetrics(cycle_count=7, tool_metrics={'weather': ToolMetrics(tool={'toolUseId': 'tooluse_24XEy-KIRuWQe6hMlTymXg', 'name': 'weather', 'input': {}}, call_count=3, success_count=3, error_count=0, total_time=0.0010275840759277344)}, cycle_durations=[1.5278685092926025, 1.8092353343963623, 1.7401549816131592], traces=[<strands.telemetry.metrics.Trace object at 0x7dbc1fb81be0>, <strands.telemetry.metrics.Trace object at 0x7dbc30285a70>, <strands.telemetry.metrics.Trace object at 0x7dbc3350fdf0>, <strands.telemetry.metrics.Trace object at 0x7dbc1fd36750>, <strands.telemetry.metrics.Trace object at 0x7dbc302c66d0>, <strands.telemetry.metrics.Trace object at 0x7dbc1faa4ef0>, <strands.telemetry.metrics.Trace object at 0x7dbc1fa44680>], accumulated_usage={'inputTokens': 13308, 'outputTokens': 312, 'totalTokens': 13620}, accumulated_metrics={'latencyMs': 9537}), state={})}\n"
     ]
    }
   ],
   "source": [
    "user_input = \"날씨 어때\"\n",
    "try:\n",
    "    accumulated_response = \"\"\n",
    "    async for event in agent.stream_async(user_input):\n",
    "        print(event)\n",
    "        if \"data\" in event:\n",
    "            text_data = event[\"data\"]\n",
    "            accumulated_response += text_data\n",
    "            if text_data.strip():\n",
    "                print(f\"data: {json.dumps({'type': 'content', 'content': text_data})}\\n\\n\")\n",
    "        elif \"current_tool_use\" in event and event[\"current_tool_use\"].get(\"name\"):\n",
    "            tool_name = event[\"current_tool_use\"][\"name\"]\n",
    "            print(f\"data: {json.dumps({'type': 'tool_use', 'tool_name': tool_name})}\\n\\n\")\n",
    "except Exception as e:\n",
    "    print(f\"data: {json.dumps({'type': 'content', 'content': f'Error: {str(e)}'})}\\n\\n\")"
   ]
  },
  {
   "cell_type": "code",
   "execution_count": null,
   "id": "1707e750",
   "metadata": {},
   "outputs": [],
   "source": [
    "stream = agent.stream_async(user_message)\n",
    "async for event in stream:            \n",
    "    if \"message\" in event and \"content\" in event[\"message\"] and \"role\" in event[\"message\"] and event[\"message\"][\"role\"] == \"assistant\":\n",
    "        for content_item in event['message']['content']:\n",
    "            if \"toolUse\" in content_item and \"input\" in content_item[\"toolUse\"] and content_item[\"toolUse\"]['name'] == 'execute_sql_query':\n",
    "                print(f\" {content_item['toolUse']['input']['description']}.\\n\\n\")\n",
    "            elif \"toolUse\" in content_item and \"name\" in content_item[\"toolUse\"] and content_item[\"toolUse\"]['name'] == 'get_tables_information':\n",
    "                print(\"\\n\\n\")\n",
    "            elif \"toolUse\" in content_item and \"name\" in content_item[\"toolUse\"] and content_item[\"toolUse\"]['name'] == 'current_time':\n",
    "                print(\"\\n\\n\")\n",
    "    elif \"data\" in event:\n",
    "        yield event['data']"
   ]
  },
  {
   "cell_type": "code",
   "execution_count": null,
   "id": "5bf99c58",
   "metadata": {},
   "outputs": [],
   "source": []
  }
 ],
 "metadata": {
  "kernelspec": {
   "display_name": "Python 3",
   "language": "python",
   "name": "python3"
  },
  "language_info": {
   "codemirror_mode": {
    "name": "ipython",
    "version": 3
   },
   "file_extension": ".py",
   "mimetype": "text/x-python",
   "name": "python",
   "nbconvert_exporter": "python",
   "pygments_lexer": "ipython3",
   "version": "3.13.7"
  }
 },
 "nbformat": 4,
 "nbformat_minor": 5
}
